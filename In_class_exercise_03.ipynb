{
  "cells": [
    {
      "cell_type": "markdown",
      "metadata": {
        "id": "view-in-github",
        "colab_type": "text"
      },
      "source": [
        "<a href=\"https://colab.research.google.com/github/preetham3216/info5731-fall2021/blob/main/In_class_exercise_03.ipynb\" target=\"_parent\"><img src=\"https://colab.research.google.com/assets/colab-badge.svg\" alt=\"Open In Colab\"/></a>"
      ]
    },
    {
      "cell_type": "markdown",
      "metadata": {
        "id": "-qbB1zrdoqc7"
      },
      "source": [
        "## The third In-class-exercise (9/29/2021, 40 points in total)"
      ]
    },
    {
      "cell_type": "markdown",
      "metadata": {
        "id": "jOhNh2WYoqc8"
      },
      "source": [
        "The purpose of this exercise is to understand text representation."
      ]
    },
    {
      "cell_type": "markdown",
      "metadata": {
        "id": "IKgB10ivoqc8"
      },
      "source": [
        "Question 1 (10 points): Describe an interesting text classification or text mining task and explain what kind of features might be useful for you to build the machine learning model. List your features and explain why these features might be helpful. You need to list at least five different types of features."
      ]
    },
    {
      "cell_type": "code",
      "execution_count": null,
      "metadata": {
        "id": "tLgOQi8koqc8"
      },
      "outputs": [],
      "source": [
        "# Your answer here (no code for this question, write down your answer as detail as possible for the above questions):\n",
        "\n",
        "'''\n",
        "Please write you answer here:\n",
        "Topic tagging is particularly important to examine tremendous proportions of text data in a speedy and sagacious manner\n",
        "from internal records, correspondences with customers, or all around the web.\n",
        "To be sure, you could do it genuinely yet, let's face it, when there's a great deal of information to be described, \n",
        "it will just end up being dreary, expensive, and extensively less careful.\n",
        "The two most common approaches for topic analysis with machine learning are NLP topic modeling and NLP topic classification.\n",
        "Features:\n",
        "NLP topic modeling\n",
        "NLP topic classification\n",
        "preprocessing\n",
        "obtaining word embedding\n",
        "clustering word embedding\n",
        "\n",
        "\n",
        "'''"
      ]
    },
    {
      "cell_type": "markdown",
      "metadata": {
        "id": "EN7jIJmboqc9"
      },
      "source": [
        "Question 2 (20 points): Write python code to extract these features you discussed above. You can collect a few sample text data for the feature extraction. "
      ]
    },
    {
      "cell_type": "code",
      "execution_count": null,
      "metadata": {
        "id": "mENm9aMMoqc9",
        "outputId": "6d9c50ee-ff1f-48ac-e26b-5e18b57345ae"
      },
      "outputs": [
        {
          "data": {
            "text/plain": [
              "(                   titles ratings  \\\n",
              " 0         A visual feast.    7/10   \n",
              " 1              Next Phase    6/10   \n",
              " 2                 Bus Boy   10/10   \n",
              " 3                    Wow!    9/10   \n",
              " 4  Precious ... ten times    9/10   \n",
              " \n",
              "                                              content         user_name  \\\n",
              " 0  I am not a big fan of the many, many Marvel fi...      MartinHafer1   \n",
              " 1  It was an okay movie. Simu Liu is the son of t...       boblipton11   \n",
              " 2  Shaun (Simu Liu) and Katy (Awkwafina) are park...  nogodnomasters11   \n",
              " 3  I was not expecting that, I had visions of a f...   Sleepin_Dragon9   \n",
              " 4  Of course I am just riffing off, teasing and m...         kosmasp12   \n",
              " \n",
              "              date  \n",
              " 0   December 2021  \n",
              " 1  September 2021  \n",
              " 2  September 2021  \n",
              " 3  September 2021  \n",
              " 4  September 2021  ,\n",
              " (22, 5))"
            ]
          },
          "execution_count": 64,
          "metadata": {},
          "output_type": "execute_result"
        }
      ],
      "source": [
        "# You code here (Please add comments in the code):\n",
        "import urllib.request\n",
        "from bs4 import BeautifulSoup\n",
        "soup = BeautifulSoup(urllib.request.urlopen(\"https://www.imdb.com/title/tt9376612/reviews?ref_=tt_urv\")) \n",
        "reviews= soup.find_all(class_=\"lister-item-content\") \n",
        "titles,content,rating,user_name,date=[],[],[],[],[]\n",
        "for a,b,c,d in zip(soup.findAll(class_='title'),soup.findAll(class_='display-name-date'),soup.findAll(class_='content'),soup.findAll(class_='ipl-ratings-bar')):\n",
        "        titles.append(a.text.strip())\n",
        "        user_name.append(b.text.strip().split(' ')[0])\n",
        "        date.append(' '.join(i for i in b.text.strip().split(' ')[1:3]))\n",
        "        content.append(c.text.strip())\n",
        "        rating.append(d.text.strip())\n",
        "        \n",
        "import seaborn as sns\n",
        "import matplotlib.pyplot as plt\n",
        "from sklearn.model_selection import train_test_split\n",
        "%matplotlib inline\n",
        "import pandas as pd\n",
        "reviews = pd.DataFrame({\"titles\": titles,\"ratings\":rating,\"content\":content,'user_name':user_name,'date':date})\n",
        "reviews.head(),reviews.shape\n",
        "\n",
        "\n"
      ]
    },
    {
      "cell_type": "code",
      "execution_count": null,
      "metadata": {
        "id": "lJd4OLI7oqc-",
        "outputId": "bdccf394-2f57-4dff-9528-404eb6543038"
      },
      "outputs": [
        {
          "name": "stderr",
          "output_type": "stream",
          "text": [
            "[nltk_data] Downloading package stopwords to\n",
            "[nltk_data]     C:\\Users\\preet\\AppData\\Roaming\\nltk_data...\n",
            "[nltk_data]   Package stopwords is already up-to-date!\n"
          ]
        }
      ],
      "source": [
        "import nltk\n",
        "nltk.download('stopwords')\n",
        "from nltk.corpus import stopwords\n",
        "stop = stopwords.words('english')"
      ]
    },
    {
      "cell_type": "code",
      "execution_count": null,
      "metadata": {
        "id": "ZjsAjbwtoqc-"
      },
      "outputs": [],
      "source": [
        "def text_cleaning(x):\n",
        "    x=x.lower()\n",
        "    x=x.replace('[^\\w\\s]','')\n",
        "    x=' '.join(x for x in x.split() if x not in stop)\n",
        "    return x\n",
        "    "
      ]
    },
    {
      "cell_type": "code",
      "execution_count": null,
      "metadata": {
        "id": "ZK1hm8npoqc-"
      },
      "outputs": [],
      "source": [
        "reviews['titles']=reviews['titles'].apply(text_cleaning)\n",
        "reviews['content']=reviews['content'].apply(text_cleaning)"
      ]
    },
    {
      "cell_type": "code",
      "execution_count": null,
      "metadata": {
        "id": "E7BkGyXIoqc-",
        "outputId": "b8215982-22c8-47e9-afc0-55d2c35ef9b1"
      },
      "outputs": [
        {
          "data": {
            "text/plain": [
              "str"
            ]
          },
          "execution_count": 50,
          "metadata": {},
          "output_type": "execute_result"
        }
      ],
      "source": [
        "type(reviews['content'].iloc[0])"
      ]
    },
    {
      "cell_type": "code",
      "execution_count": null,
      "metadata": {
        "id": "XGUQLXycoqc_"
      },
      "outputs": [],
      "source": [
        "from nltk.tokenize import sent_tokenize\n",
        "reviews['sen_len']=reviews['content'].apply(lambda x: len(sent_tokenize(x)))"
      ]
    },
    {
      "cell_type": "code",
      "execution_count": null,
      "metadata": {
        "id": "w_AgAHYToqc_",
        "outputId": "6f8514a6-31ac-471c-aa0e-fd72caa21974"
      },
      "outputs": [
        {
          "data": {
            "text/plain": [
              "[Counter({'JJ': 17,\n",
              "          'NN': 22,\n",
              "          ',': 7,\n",
              "          'NNS': 1,\n",
              "          '.': 7,\n",
              "          'VBD': 3,\n",
              "          'CD': 5,\n",
              "          'JJS': 1,\n",
              "          'PRP': 3,\n",
              "          'NNP': 1,\n",
              "          'CC': 1,\n",
              "          'IN': 1,\n",
              "          'VBP': 1,\n",
              "          'MD': 3,\n",
              "          'VB': 4,\n",
              "          'RB': 4,\n",
              "          'VBN': 4,\n",
              "          ':': 1}),\n",
              " Counter({'JJ': 32,\n",
              "          'NN': 52,\n",
              "          '.': 13,\n",
              "          'RB': 7,\n",
              "          'NNS': 13,\n",
              "          ':': 3,\n",
              "          ',': 15,\n",
              "          'VBP': 7,\n",
              "          'VBN': 3,\n",
              "          'WP': 1,\n",
              "          'VBZ': 2,\n",
              "          'VBG': 6,\n",
              "          'FW': 2,\n",
              "          'PRP': 3,\n",
              "          'VBD': 2,\n",
              "          'WRB': 1,\n",
              "          'VB': 4,\n",
              "          'IN': 3,\n",
              "          'JJR': 1,\n",
              "          'DT': 1,\n",
              "          'EX': 1,\n",
              "          'NNP': 2,\n",
              "          'POS': 1,\n",
              "          'CD': 3}),\n",
              " Counter({'NN': 31,\n",
              "          '(': 3,\n",
              "          'JJ': 16,\n",
              "          ')': 3,\n",
              "          'VBG': 4,\n",
              "          'NNS': 10,\n",
              "          '.': 10,\n",
              "          '``': 1,\n",
              "          'DT': 1,\n",
              "          \"''\": 1,\n",
              "          ',': 6,\n",
              "          'CD': 4,\n",
              "          'VBP': 3,\n",
              "          'VBD': 3,\n",
              "          'VBZ': 1,\n",
              "          'VBN': 3,\n",
              "          'IN': 2,\n",
              "          'VB': 4,\n",
              "          'MD': 1}),\n",
              " Counter({'VBG': 2,\n",
              "          'IN': 2,\n",
              "          ',': 15,\n",
              "          'NNS': 5,\n",
              "          'NN': 15,\n",
              "          'JJ': 11,\n",
              "          'CD': 4,\n",
              "          'VBD': 2,\n",
              "          'RB': 3,\n",
              "          'VB': 6,\n",
              "          'TO': 1,\n",
              "          'VBN': 2,\n",
              "          'DT': 1,\n",
              "          'PRP': 3,\n",
              "          '.': 5}),\n",
              " Counter({'NN': 48,\n",
              "          'VBG': 8,\n",
              "          'RP': 2,\n",
              "          ',': 10,\n",
              "          'JJ': 45,\n",
              "          'NNS': 15,\n",
              "          '.': 21,\n",
              "          'IN': 3,\n",
              "          ':': 10,\n",
              "          'RB': 29,\n",
              "          'VB': 11,\n",
              "          'MD': 2,\n",
              "          'VBN': 6,\n",
              "          '(': 4,\n",
              "          'VBP': 5,\n",
              "          ')': 4,\n",
              "          'VBZ': 6,\n",
              "          'JJR': 2,\n",
              "          'VBD': 5,\n",
              "          'RBR': 1,\n",
              "          'DT': 1,\n",
              "          'PRP': 1,\n",
              "          'WDT': 1,\n",
              "          'CC': 1,\n",
              "          'JJS': 1,\n",
              "          'CD': 2}),\n",
              " Counter({'VBN': 12,\n",
              "          'NN': 95,\n",
              "          'NNS': 18,\n",
              "          ',': 27,\n",
              "          'VBD': 5,\n",
              "          'POS': 4,\n",
              "          '.': 22,\n",
              "          'VBP': 9,\n",
              "          'JJ': 43,\n",
              "          '(': 6,\n",
              "          ')': 6,\n",
              "          'VBG': 10,\n",
              "          'DT': 1,\n",
              "          'VBZ': 11,\n",
              "          'IN': 9,\n",
              "          'PRP': 2,\n",
              "          'RB': 21,\n",
              "          'NNP': 1,\n",
              "          'EX': 1,\n",
              "          'FW': 1,\n",
              "          'WRB': 1,\n",
              "          'WP': 2,\n",
              "          'JJR': 1,\n",
              "          'MD': 3,\n",
              "          'VB': 7,\n",
              "          'WDT': 1,\n",
              "          'CD': 2}),\n",
              " Counter({'NN': 205,\n",
              "          'JJ': 144,\n",
              "          'VBD': 21,\n",
              "          'RB': 23,\n",
              "          ',': 71,\n",
              "          '.': 46,\n",
              "          'NNS': 75,\n",
              "          'NNP': 1,\n",
              "          '(': 14,\n",
              "          ')': 14,\n",
              "          'VBG': 35,\n",
              "          'IN': 9,\n",
              "          'VBP': 21,\n",
              "          'CD': 6,\n",
              "          'VBZ': 17,\n",
              "          'VBN': 11,\n",
              "          'JJS': 1,\n",
              "          'POS': 9,\n",
              "          'VB': 11,\n",
              "          '``': 2,\n",
              "          \"''\": 2,\n",
              "          'RBS': 2,\n",
              "          'CC': 2,\n",
              "          'PRP$': 2,\n",
              "          'PRP': 3,\n",
              "          'EX': 1,\n",
              "          ':': 1,\n",
              "          'FW': 1,\n",
              "          'RBR': 1,\n",
              "          'JJR': 1,\n",
              "          'DT': 1,\n",
              "          'MD': 2,\n",
              "          'RP': 1}),\n",
              " Counter({'VBN': 9,\n",
              "          'NN': 113,\n",
              "          'CD': 6,\n",
              "          '``': 8,\n",
              "          'JJ': 66,\n",
              "          'NNS': 27,\n",
              "          \"''\": 8,\n",
              "          'MD': 2,\n",
              "          'VB': 6,\n",
              "          'VBG': 7,\n",
              "          'PRP': 6,\n",
              "          ',': 25,\n",
              "          'DT': 2,\n",
              "          '.': 23,\n",
              "          'RB': 27,\n",
              "          'VBD': 18,\n",
              "          'VBP': 5,\n",
              "          'JJS': 2,\n",
              "          'WRB': 1,\n",
              "          'RBR': 1,\n",
              "          'IN': 2,\n",
              "          'VBZ': 4,\n",
              "          'FW': 2,\n",
              "          'NNP': 1,\n",
              "          'POS': 1,\n",
              "          'RBS': 1}),\n",
              " Counter({'VB': 4,\n",
              "          'NN': 7,\n",
              "          'VBG': 1,\n",
              "          'JJ': 8,\n",
              "          '.': 7,\n",
              "          'RB': 1,\n",
              "          ',': 1,\n",
              "          'NNS': 1,\n",
              "          'VBN': 2,\n",
              "          'DT': 1,\n",
              "          'CD': 2}),\n",
              " Counter({'NN': 149,\n",
              "          'VBP': 22,\n",
              "          'VBD': 29,\n",
              "          'JJ': 74,\n",
              "          'NNS': 33,\n",
              "          ':': 3,\n",
              "          '.': 40,\n",
              "          '``': 3,\n",
              "          \"''\": 3,\n",
              "          ',': 20,\n",
              "          'MD': 15,\n",
              "          'VB': 16,\n",
              "          'CD': 11,\n",
              "          'RB': 39,\n",
              "          'PRP': 7,\n",
              "          'DT': 5,\n",
              "          'VBZ': 6,\n",
              "          'IN': 9,\n",
              "          '(': 5,\n",
              "          ')': 7,\n",
              "          'VBN': 19,\n",
              "          'VBG': 10,\n",
              "          'JJR': 2,\n",
              "          'POS': 4,\n",
              "          'RBR': 2,\n",
              "          'RP': 3,\n",
              "          'FW': 1,\n",
              "          'WDT': 1}),\n",
              " Counter({'CD': 12,\n",
              "          'NNS': 32,\n",
              "          'IN': 7,\n",
              "          'NN': 89,\n",
              "          '(': 9,\n",
              "          'JJ': 59,\n",
              "          ',': 56,\n",
              "          'VBG': 16,\n",
              "          ')': 9,\n",
              "          'RB': 38,\n",
              "          'VBD': 8,\n",
              "          'PRP': 4,\n",
              "          'VBP': 12,\n",
              "          '.': 22,\n",
              "          'MD': 2,\n",
              "          'VBN': 7,\n",
              "          'VBZ': 11,\n",
              "          'UH': 2,\n",
              "          'JJS': 3,\n",
              "          'VB': 11,\n",
              "          'RP': 1,\n",
              "          'WRB': 1,\n",
              "          '``': 3,\n",
              "          \"''\": 3,\n",
              "          'DT': 2,\n",
              "          'WDT': 1,\n",
              "          '$': 1,\n",
              "          'TO': 1,\n",
              "          ':': 1,\n",
              "          'JJR': 1,\n",
              "          'FW': 1,\n",
              "          'POS': 1}),\n",
              " Counter({'JJ': 40,\n",
              "          'VBZ': 6,\n",
              "          'NN': 34,\n",
              "          'NNS': 11,\n",
              "          ',': 17,\n",
              "          'RB': 16,\n",
              "          'VB': 5,\n",
              "          'CC': 2,\n",
              "          'VBP': 3,\n",
              "          'VBN': 7,\n",
              "          '(': 1,\n",
              "          'IN': 1,\n",
              "          'VBG': 5,\n",
              "          'RP': 1,\n",
              "          ')': 1,\n",
              "          '.': 11,\n",
              "          ':': 3,\n",
              "          'VBD': 1,\n",
              "          'CD': 3,\n",
              "          'PRP': 1}),\n",
              " Counter({'VBN': 2,\n",
              "          'IN': 5,\n",
              "          'NN': 25,\n",
              "          'JJ': 6,\n",
              "          '.': 8,\n",
              "          'VBD': 7,\n",
              "          'VBZ': 5,\n",
              "          'DT': 1,\n",
              "          'VBP': 1,\n",
              "          'POS': 1,\n",
              "          'NNS': 7,\n",
              "          'RB': 3,\n",
              "          ',': 4,\n",
              "          'VBG': 1,\n",
              "          'CD': 7,\n",
              "          'VB': 2}),\n",
              " Counter({'IN': 2,\n",
              "          'VBG': 4,\n",
              "          'NN': 14,\n",
              "          'VBZ': 2,\n",
              "          'EX': 1,\n",
              "          'RBR': 1,\n",
              "          'RB': 6,\n",
              "          'VB': 6,\n",
              "          'RP': 1,\n",
              "          'DT': 1,\n",
              "          '.': 12,\n",
              "          'JJ': 14,\n",
              "          ',': 5,\n",
              "          'POS': 1,\n",
              "          'VBN': 2,\n",
              "          'NNS': 7,\n",
              "          'MD': 2,\n",
              "          'CD': 4,\n",
              "          'RBS': 1,\n",
              "          'JJS': 1,\n",
              "          'VBD': 1}),\n",
              " Counter({'``': 1,\n",
              "          'DT': 2,\n",
              "          'PRP': 2,\n",
              "          'NN': 52,\n",
              "          'RB': 9,\n",
              "          'VBD': 5,\n",
              "          'VBN': 3,\n",
              "          '.': 9,\n",
              "          \"''\": 1,\n",
              "          '(': 3,\n",
              "          'JJ': 39,\n",
              "          ')': 3,\n",
              "          'NNS': 12,\n",
              "          'IN': 2,\n",
              "          'RBR': 1,\n",
              "          ',': 11,\n",
              "          'VBZ': 6,\n",
              "          'VBP': 4,\n",
              "          'VBG': 8,\n",
              "          'MD': 1,\n",
              "          'VB': 4,\n",
              "          'POS': 3,\n",
              "          'CD': 2}),\n",
              " Counter({'``': 3,\n",
              "          'RB': 4,\n",
              "          'NN': 38,\n",
              "          'VBG': 3,\n",
              "          'JJ': 11,\n",
              "          'NNS': 6,\n",
              "          'RBR': 1,\n",
              "          ',': 10,\n",
              "          'MD': 2,\n",
              "          'VB': 5,\n",
              "          '(': 3,\n",
              "          ')': 3,\n",
              "          'VBZ': 1,\n",
              "          'DT': 1,\n",
              "          \"''\": 1,\n",
              "          'CD': 5,\n",
              "          'POS': 1,\n",
              "          '.': 6,\n",
              "          'VBN': 2,\n",
              "          'WP': 1,\n",
              "          'VBP': 1,\n",
              "          ':': 1}),\n",
              " Counter({'NN': 51,\n",
              "          ',': 13,\n",
              "          'NNS': 10,\n",
              "          'JJ': 31,\n",
              "          'VBG': 5,\n",
              "          'RB': 9,\n",
              "          '.': 10,\n",
              "          'PRP': 2,\n",
              "          'VBP': 4,\n",
              "          'JJS': 2,\n",
              "          '(': 1,\n",
              "          'VBN': 4,\n",
              "          'DT': 2,\n",
              "          ')': 1,\n",
              "          'VB': 3,\n",
              "          'FW': 2,\n",
              "          ':': 1,\n",
              "          'VBZ': 4,\n",
              "          'RBR': 1,\n",
              "          '``': 1,\n",
              "          \"''\": 1,\n",
              "          'CD': 2}),\n",
              " Counter({'JJ': 69,\n",
              "          'NN': 82,\n",
              "          'NNS': 28,\n",
              "          '(': 5,\n",
              "          'CD': 5,\n",
              "          ')': 5,\n",
              "          \"''\": 1,\n",
              "          'VBZ': 17,\n",
              "          ',': 39,\n",
              "          'RB': 52,\n",
              "          'VBP': 7,\n",
              "          'VB': 13,\n",
              "          '.': 35,\n",
              "          'IN': 14,\n",
              "          'JJR': 2,\n",
              "          'VBD': 8,\n",
              "          ':': 3,\n",
              "          'VBG': 14,\n",
              "          'WP$': 1,\n",
              "          'POS': 6,\n",
              "          'PRP': 6,\n",
              "          'MD': 3,\n",
              "          'RBR': 4,\n",
              "          'VBN': 8,\n",
              "          'DT': 3,\n",
              "          'TO': 1,\n",
              "          'WDT': 1,\n",
              "          'JJS': 2,\n",
              "          'CC': 1}),\n",
              " Counter({'NN': 136,\n",
              "          '.': 73,\n",
              "          'JJ': 85,\n",
              "          'VBD': 18,\n",
              "          'VBG': 16,\n",
              "          'CD': 19,\n",
              "          'NNS': 45,\n",
              "          ',': 46,\n",
              "          'CC': 1,\n",
              "          'JJR': 2,\n",
              "          'RB': 44,\n",
              "          'VB': 21,\n",
              "          'PRP': 10,\n",
              "          'IN': 9,\n",
              "          '(': 5,\n",
              "          'DT': 4,\n",
              "          ')': 5,\n",
              "          'VBP': 18,\n",
              "          'FW': 2,\n",
              "          ':': 2,\n",
              "          'WDT': 1,\n",
              "          'VBZ': 8,\n",
              "          'VBN': 10,\n",
              "          'JJS': 5,\n",
              "          'POS': 2,\n",
              "          'RBS': 1,\n",
              "          'MD': 10,\n",
              "          'RP': 2,\n",
              "          'RBR': 2,\n",
              "          'EX': 1,\n",
              "          '``': 2,\n",
              "          \"''\": 2,\n",
              "          'WP': 1,\n",
              "          'TO': 1}),\n",
              " Counter({'JJ': 6,\n",
              "          '.': 7,\n",
              "          'RB': 3,\n",
              "          ',': 5,\n",
              "          'NN': 4,\n",
              "          'CD': 3,\n",
              "          'NNS': 4,\n",
              "          'VBD': 3,\n",
              "          'RP': 1,\n",
              "          'WDT': 1,\n",
              "          'VBZ': 1,\n",
              "          'PRP': 1,\n",
              "          'VBN': 2,\n",
              "          'VB': 2}),\n",
              " Counter({'NN': 16,\n",
              "          'RB': 5,\n",
              "          'IN': 3,\n",
              "          'JJ': 8,\n",
              "          'VBN': 3,\n",
              "          'NNS': 4,\n",
              "          'VBD': 2,\n",
              "          '.': 6,\n",
              "          'VBG': 2,\n",
              "          '(': 1,\n",
              "          'RBS': 1,\n",
              "          ')': 1,\n",
              "          ',': 2,\n",
              "          'VB': 4,\n",
              "          '``': 1,\n",
              "          \"''\": 1,\n",
              "          'CD': 3,\n",
              "          'VBP': 1}),\n",
              " Counter({'NN': 37,\n",
              "          'NNS': 11,\n",
              "          'VBP': 5,\n",
              "          'VBN': 2,\n",
              "          'JJ': 24,\n",
              "          ',': 3,\n",
              "          'WP': 1,\n",
              "          'VBZ': 5,\n",
              "          'IN': 2,\n",
              "          'VBG': 2,\n",
              "          '.': 15,\n",
              "          'RB': 9,\n",
              "          'PRP': 1,\n",
              "          '``': 2,\n",
              "          'CD': 5,\n",
              "          \"''\": 2,\n",
              "          'VBD': 3,\n",
              "          'JJR': 1,\n",
              "          'EX': 1,\n",
              "          'VB': 5,\n",
              "          'DT': 1})]"
            ]
          },
          "execution_count": 53,
          "metadata": {},
          "output_type": "execute_result"
        }
      ],
      "source": [
        "from nltk.tokenize import word_tokenize\n",
        "pos = []\n",
        "for sentence in reviews['content']:\n",
        "  text = word_tokenize(sentence)\n",
        "  pos.append(nltk.pos_tag(text))\n",
        "    \n",
        "from collections import Counter\n",
        "count = []\n",
        "for tags in pos:\n",
        "  counts = Counter(tag for words, tag in tags)\n",
        "  count.append(counts)\n",
        "count"
      ]
    },
    {
      "cell_type": "code",
      "execution_count": null,
      "metadata": {
        "id": "TL6kV3ltoqc_",
        "outputId": "b7dd2d1a-7450-4442-a688-16ce69795c61"
      },
      "outputs": [
        {
          "data": {
            "text/plain": [
              "dict_keys(['JJ', 'NN', ',', 'NNS', '.', 'VBD', 'CD', 'JJS', 'PRP', 'NNP', 'CC', 'IN', 'VBP', 'MD', 'VB', 'RB', 'VBN', ':'])"
            ]
          },
          "execution_count": 54,
          "metadata": {},
          "output_type": "execute_result"
        }
      ],
      "source": [
        "count[0].keys()"
      ]
    },
    {
      "cell_type": "code",
      "execution_count": null,
      "metadata": {
        "id": "0MeIyVMPoqc_"
      },
      "outputs": [],
      "source": [
        "def get_count(x):\n",
        "    x['No_of_Adj'] = x['counter']['JJ'] if 'JJ' in x['counter'].keys() else 0\n",
        "    x['No_of_Adv'] = x['counter']['RB'] if 'RB' in x['counter'].keys() else 0\n",
        "    x['No_of_Nouns'] = x['counter']['NN'] if 'NN' in x['counter'].keys() else 0\n",
        "    x['No_of_Verbs'] = x['counter']['VR'] if 'VR' in x['counter'].keys() else 0\n",
        "    \n",
        "    return x"
      ]
    },
    {
      "cell_type": "code",
      "execution_count": null,
      "metadata": {
        "id": "hN1HUuYMoqc_"
      },
      "outputs": [],
      "source": [
        "reviews['counter']=count"
      ]
    },
    {
      "cell_type": "code",
      "execution_count": null,
      "metadata": {
        "id": "TtV3Kk-eoqdA"
      },
      "outputs": [],
      "source": [
        "reviews=reviews.apply(lambda x: get_count(x),axis=1)"
      ]
    },
    {
      "cell_type": "code",
      "execution_count": null,
      "metadata": {
        "id": "WxEN3D7GoqdA",
        "outputId": "2682ca0f-32b0-4260-c371-164cc0c6a1b7"
      },
      "outputs": [
        {
          "data": {
            "text/html": [
              "<div>\n",
              "<style scoped>\n",
              "    .dataframe tbody tr th:only-of-type {\n",
              "        vertical-align: middle;\n",
              "    }\n",
              "\n",
              "    .dataframe tbody tr th {\n",
              "        vertical-align: top;\n",
              "    }\n",
              "\n",
              "    .dataframe thead th {\n",
              "        text-align: right;\n",
              "    }\n",
              "</style>\n",
              "<table border=\"1\" class=\"dataframe\">\n",
              "  <thead>\n",
              "    <tr style=\"text-align: right;\">\n",
              "      <th></th>\n",
              "      <th>titles</th>\n",
              "      <th>ratings</th>\n",
              "      <th>content</th>\n",
              "      <th>user_name</th>\n",
              "      <th>date</th>\n",
              "      <th>sen_len</th>\n",
              "      <th>counter</th>\n",
              "      <th>No_of_Adj</th>\n",
              "      <th>No_of_Adv</th>\n",
              "      <th>No_of_Nouns</th>\n",
              "      <th>No_of_Verbs</th>\n",
              "    </tr>\n",
              "  </thead>\n",
              "  <tbody>\n",
              "    <tr>\n",
              "      <th>0</th>\n",
              "      <td>visual feast.</td>\n",
              "      <td>7/10</td>\n",
              "      <td>big fan many, many marvel films. reason saw on...</td>\n",
              "      <td>MartinHafer1</td>\n",
              "      <td>December 2021</td>\n",
              "      <td>8</td>\n",
              "      <td>{'JJ': 17, 'NN': 22, ',': 7, 'NNS': 1, '.': 7,...</td>\n",
              "      <td>17</td>\n",
              "      <td>4</td>\n",
              "      <td>22</td>\n",
              "      <td>0</td>\n",
              "    </tr>\n",
              "    <tr>\n",
              "      <th>1</th>\n",
              "      <td>next phase</td>\n",
              "      <td>6/10</td>\n",
              "      <td>okay movie. simu liu son seemingly immortal ma...</td>\n",
              "      <td>boblipton11</td>\n",
              "      <td>September 2021</td>\n",
              "      <td>14</td>\n",
              "      <td>{'JJ': 32, 'NN': 52, '.': 13, 'RB': 7, 'NNS': ...</td>\n",
              "      <td>32</td>\n",
              "      <td>7</td>\n",
              "      <td>52</td>\n",
              "      <td>0</td>\n",
              "    </tr>\n",
              "    <tr>\n",
              "      <th>2</th>\n",
              "      <td>bus boy</td>\n",
              "      <td>10/10</td>\n",
              "      <td>shaun (simu liu) katy (awkwafina) parking vale...</td>\n",
              "      <td>nogodnomasters11</td>\n",
              "      <td>September 2021</td>\n",
              "      <td>11</td>\n",
              "      <td>{'NN': 31, '(': 3, 'JJ': 16, ')': 3, 'VBG': 4,...</td>\n",
              "      <td>16</td>\n",
              "      <td>0</td>\n",
              "      <td>31</td>\n",
              "      <td>0</td>\n",
              "    </tr>\n",
              "    <tr>\n",
              "      <th>3</th>\n",
              "      <td>wow!</td>\n",
              "      <td>9/10</td>\n",
              "      <td>expecting that, visions film along lines snake...</td>\n",
              "      <td>Sleepin_Dragon9</td>\n",
              "      <td>September 2021</td>\n",
              "      <td>6</td>\n",
              "      <td>{'VBG': 2, 'IN': 2, ',': 15, 'NNS': 5, 'NN': 1...</td>\n",
              "      <td>11</td>\n",
              "      <td>3</td>\n",
              "      <td>15</td>\n",
              "      <td>0</td>\n",
              "    </tr>\n",
              "    <tr>\n",
              "      <th>4</th>\n",
              "      <td>precious ... ten times</td>\n",
              "      <td>9/10</td>\n",
              "      <td>course riffing off, teasing making fun certain...</td>\n",
              "      <td>kosmasp12</td>\n",
              "      <td>September 2021</td>\n",
              "      <td>22</td>\n",
              "      <td>{'NN': 48, 'VBG': 8, 'RP': 2, ',': 10, 'JJ': 4...</td>\n",
              "      <td>45</td>\n",
              "      <td>29</td>\n",
              "      <td>48</td>\n",
              "      <td>0</td>\n",
              "    </tr>\n",
              "  </tbody>\n",
              "</table>\n",
              "</div>"
            ],
            "text/plain": [
              "                   titles ratings  \\\n",
              "0           visual feast.    7/10   \n",
              "1              next phase    6/10   \n",
              "2                 bus boy   10/10   \n",
              "3                    wow!    9/10   \n",
              "4  precious ... ten times    9/10   \n",
              "\n",
              "                                             content         user_name  \\\n",
              "0  big fan many, many marvel films. reason saw on...      MartinHafer1   \n",
              "1  okay movie. simu liu son seemingly immortal ma...       boblipton11   \n",
              "2  shaun (simu liu) katy (awkwafina) parking vale...  nogodnomasters11   \n",
              "3  expecting that, visions film along lines snake...   Sleepin_Dragon9   \n",
              "4  course riffing off, teasing making fun certain...         kosmasp12   \n",
              "\n",
              "             date  sen_len                                            counter  \\\n",
              "0   December 2021        8  {'JJ': 17, 'NN': 22, ',': 7, 'NNS': 1, '.': 7,...   \n",
              "1  September 2021       14  {'JJ': 32, 'NN': 52, '.': 13, 'RB': 7, 'NNS': ...   \n",
              "2  September 2021       11  {'NN': 31, '(': 3, 'JJ': 16, ')': 3, 'VBG': 4,...   \n",
              "3  September 2021        6  {'VBG': 2, 'IN': 2, ',': 15, 'NNS': 5, 'NN': 1...   \n",
              "4  September 2021       22  {'NN': 48, 'VBG': 8, 'RP': 2, ',': 10, 'JJ': 4...   \n",
              "\n",
              "   No_of_Adj  No_of_Adv  No_of_Nouns  No_of_Verbs  \n",
              "0         17          4           22            0  \n",
              "1         32          7           52            0  \n",
              "2         16          0           31            0  \n",
              "3         11          3           15            0  \n",
              "4         45         29           48            0  "
            ]
          },
          "execution_count": 62,
          "metadata": {},
          "output_type": "execute_result"
        }
      ],
      "source": [
        "reviews.head()"
      ]
    },
    {
      "cell_type": "code",
      "execution_count": null,
      "metadata": {
        "id": "FQV97Da2oqdA",
        "outputId": "a2419590-34a8-4dca-d638-fa35354d13c2"
      },
      "outputs": [
        {
          "data": {
            "text/plain": [
              "(22, 0)"
            ]
          },
          "execution_count": 87,
          "metadata": {},
          "output_type": "execute_result"
        }
      ],
      "source": [
        "n_types = [ 'int32','int64',  'float32', 'float64']\n",
        "n_features = list(reviews.select_dtypes(include=n_types).columns)\n",
        "df = reviews[n_features]\n",
        "df.shape"
      ]
    },
    {
      "cell_type": "code",
      "execution_count": null,
      "metadata": {
        "id": "AS-aF8zxoqdA",
        "outputId": "38558c50-508a-4c8f-edd4-d160eeb6bc00"
      },
      "outputs": [
        {
          "data": {
            "text/plain": [
              "(22, 5)"
            ]
          },
          "execution_count": 65,
          "metadata": {},
          "output_type": "execute_result"
        }
      ],
      "source": [
        "X=df\n",
        "Y=reviews['content']\n",
        "X.shape"
      ]
    },
    {
      "cell_type": "code",
      "execution_count": null,
      "metadata": {
        "id": "NfdKo0vgoqdA",
        "outputId": "015c5139-e973-41c1-8470-84797998f17a"
      },
      "outputs": [
        {
          "data": {
            "text/plain": [
              "((17, 5), (17,), (5, 5), (5,))"
            ]
          },
          "execution_count": 69,
          "metadata": {},
          "output_type": "execute_result"
        }
      ],
      "source": [
        "X_train, X_test, Y_train, Y_test = train_test_split(X, Y, test_size=0.2, random_state=101)\n",
        "X_train.shape, Y_train.shape, X_test.shape, Y_test.shape"
      ]
    },
    {
      "cell_type": "markdown",
      "metadata": {
        "id": "TBJhdlddoqdB"
      },
      "source": [
        "Question 3 (10 points): Use any of the feature selection methods mentioned in this paper \"Deng, X., Li, Y., Weng, J., & Zhang, J. (2019). Feature selection for text classification: A review. Multimedia Tools & Applications, 78(3).\" Select the most important features you extracted above, rank the features based on their importance in the descending order. "
      ]
    },
    {
      "cell_type": "code",
      "execution_count": null,
      "metadata": {
        "id": "dZF0xdxHoqdB"
      },
      "outputs": [],
      "source": [
        "chi_scores = chi2(X,y)"
      ]
    },
    {
      "cell_type": "code",
      "execution_count": null,
      "metadata": {
        "id": "2kDVo99VoqdB",
        "outputId": "92a0e5b7-8b86-4d89-f60e-e53ed634a489"
      },
      "outputs": [
        {
          "data": {
            "text/plain": [
              "(array([11.01022803, 69.33378257, 33.7328869 , 96.44638783,         nan]),\n",
              " array([2.64493055e-02, 3.13780296e-14, 8.45346558e-07, 5.61180759e-20,\n",
              "                   nan]))"
            ]
          },
          "execution_count": 91,
          "metadata": {},
          "output_type": "execute_result"
        }
      ],
      "source": [
        "chi_scores"
      ]
    },
    {
      "cell_type": "code",
      "execution_count": null,
      "metadata": {
        "id": "P9vZT3WIoqdB",
        "outputId": "6a74b148-f39b-4647-8e95-1f66de33f117"
      },
      "outputs": [
        {
          "data": {
            "text/plain": [
              "<AxesSubplot:>"
            ]
          },
          "execution_count": 112,
          "metadata": {},
          "output_type": "execute_result"
        },
        {
          "data": {
            "image/png": "[encoded data removed]",
            "text/plain": [
              "<Figure size 432x288 with 1 Axes>"
            ]
          },
          "metadata": {
            "needs_background": "light"
          },
          "output_type": "display_data"
        }
      ],
      "source": [
        "\n",
        "\n",
        "p_values_for_chi_scores = pd.Series(chi_scores[0],index = X.columns)\n",
        "p_values_for_chi_scores.sort_values(ascending = False , inplace = True)\n",
        "p_values_for_chi_scores.plot.line()\n"
      ]
    },
    {
      "cell_type": "code",
      "execution_count": null,
      "metadata": {
        "id": "IkujS_VEoqdC",
        "outputId": "ea380897-c4c6-4c7d-a3b6-0a943238cb56"
      },
      "outputs": [
        {
          "data": {
            "text/plain": [
              "<AxesSubplot:>"
            ]
          },
          "execution_count": 113,
          "metadata": {},
          "output_type": "execute_result"
        },
        {
          "data": {
            "image/png": "[encoded data removed]",
            "text/plain": [
              "<Figure size 432x288 with 1 Axes>"
            ]
          },
          "metadata": {
            "needs_background": "light"
          },
          "output_type": "display_data"
        }
      ],
      "source": [
        "p_values_for_chi_scores = pd.Series(chi_scores[1],index = X.columns)\n",
        "p_values_for_chi_scores.sort_values(ascending = False , inplace = True)\n",
        "p_values_for_chi_scores.plot.line()\n"
      ]
    },
    {
      "cell_type": "code",
      "execution_count": null,
      "metadata": {
        "id": "UkfFIOtZoqdC"
      },
      "outputs": [],
      "source": [
        ""
      ]
    }
  ],
  "metadata": {
    "kernelspec": {
      "display_name": "Python 3",
      "language": "python",
      "name": "python3"
    },
    "language_info": {
      "codemirror_mode": {
        "name": "ipython",
        "version": 3
      },
      "file_extension": ".py",
      "mimetype": "text/x-python",
      "name": "python",
      "nbconvert_exporter": "python",
      "pygments_lexer": "ipython3",
      "version": "3.8.8"
    },
    "colab": {
      "name": "In-class-exercise-03 (2) (3).ipynb",
      "provenance": [],
      "include_colab_link": true
    }
  },
  "nbformat": 4,
  "nbformat_minor": 0
}