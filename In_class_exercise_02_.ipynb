{
  "nbformat": 4,
  "nbformat_minor": 0,
  "metadata": {
    "kernelspec": {
      "display_name": "Python 3",
      "language": "python",
      "name": "python3"
    },
    "language_info": {
      "codemirror_mode": {
        "name": "ipython",
        "version": 3
      },
      "file_extension": ".py",
      "mimetype": "text/x-python",
      "name": "python",
      "nbconvert_exporter": "python",
      "pygments_lexer": "ipython3",
      "version": "3.8.8"
    },
    "colab": {
      "name": "In-class-exercise-02 .ipynb",
      "provenance": [],
      "include_colab_link": true
    }
  },
  "cells": [
    {
      "cell_type": "markdown",
      "metadata": {
        "id": "view-in-github",
        "colab_type": "text"
      },
      "source": [
        "<a href=\"https://colab.research.google.com/github/preetham3216/info5731-fall2021/blob/main/In_class_exercise_02_.ipynb\" target=\"_parent\"><img src=\"https://colab.research.google.com/assets/colab-badge.svg\" alt=\"Open In Colab\"/></a>"
      ]
    },
    {
      "cell_type": "markdown",
      "metadata": {
        "id": "C1xA2-3CVfJ8"
      },
      "source": [
        "## The third In-class-exercise (9/15/2021, 40 points in total)"
      ]
    },
    {
      "cell_type": "markdown",
      "metadata": {
        "id": "-dp5KQ7vVfJ-"
      },
      "source": [
        "The purpose of this exercise is to understand users' information needs, then collect data from different sources for analysis."
      ]
    },
    {
      "cell_type": "markdown",
      "metadata": {
        "id": "XLZVAeVFVfJ-"
      },
      "source": [
        "Question 1 (10 points): Describe an interesting research question (or practical question) you have in mind, what kind of data should be collected to answer the question(s)? How many data needed for the analysis? The detail steps for collecting and save the data. "
      ]
    },
    {
      "cell_type": "code",
      "metadata": {
        "id": "q9MOF1uXVfJ-"
      },
      "source": [
        "# Your answer here (no code for this question, write down your answer as detail as possible for the above questions):\n",
        "\n",
        "'''\n",
        "Causal Reasoning: \n",
        "A cause is an explanation for some characteristic, attitude, or behavior of groups, individuals, or other entities or for events.\n",
        "Machine learning is a powerful tool to find patterns and to examine associations and correlations, particularly in large data sets. \n",
        "While the adoption of machine learning has opened many fruitful areas of research in economics, social science, public health, and medicine, these fields require methods that move beyond correlational analyses and can tackle causal questions. \n",
        "A rich and growing area of current study is revisiting causal inference in the presence of large amounts of data. \n",
        "Data scientists are beginning to explore multiple causal inference, not just to overcome some of the strong assumptions of univariate causal inference, but because most real world observations are due to multiple factors that interact with each other.\n",
        "Five criteria should be considered in trying to establish a causal relationship. \n",
        "The first three criteria are generally considered as requirements for identifying a causal effect:\n",
        "1) empirical association\n",
        "2) temporal priority of the independent variable\n",
        "3) nonspuriousness\n",
        "4) identifying a causal mechanism\n",
        "5) specifying the context in which the effect occurs''"
      ],
      "execution_count": null,
      "outputs": []
    },
    {
      "cell_type": "markdown",
      "metadata": {
        "id": "_hPner-3VfJ_"
      },
      "source": [
        "Question 2 (10 points): Write python code to collect 1000 reviews of a movie from IMDB (https://www.imdb.com/) or 1000 reviews of a product from Amazon (https://www.amazon.com/).\n",
        "\n",
        "As for the IMDB movie review, the following informtion need to be collected (for example: https://www.imdb.com/title/tt6751668/reviews?ref_=tt_urv):\n",
        "\n",
        "(1) User name\n",
        "\n",
        "(2) Star\n",
        "\n",
        "(3) Review title\n",
        "\n",
        "(4) Review text\n",
        "\n",
        "(5) Review posted time\n",
        "\n",
        "\n",
        "As for the Amazon product review, the following information need to be collected (for example: https://www.amazon.com/Hands-Machine-Learning-Scikit-Learn-TensorFlow/dp/1492032646/ref=sr_1_3?crid=2E3C55VKJX0K3&dchild=1&keywords=machine+learning+andrew+ng&qid=1631718619&sr=8-3):\n",
        "\n",
        "(1) User name\n",
        "\n",
        "(2) Star\n",
        "\n",
        "(3) Review title\n",
        "\n",
        "(4) Review text\n",
        "\n",
        "(5) Review posted time"
      ]
    },
    {
      "cell_type": "code",
      "metadata": {
        "id": "44txVoODVfJ_",
        "outputId": "1846e6da-6aa9-452f-a756-b197d3ea6af6"
      },
      "source": [
        "# First things first, import the urllib3 module:\n",
        "\n",
        "from bs4 import BeautifulSoup\n",
        "import requests\n",
        "import pandas as pd\n",
        "from selenium import webdriver\n",
        "import json\n",
        "\n",
        "url='https://www.imdb.com/title/tt9376612/reviews?ref_=tt_urv'\n",
        "\n",
        "driver = webdriver.Chrome(executable_path=r'C:\\Users\\preet\\Downloads\\chromedriver.exe')\n",
        "driver.get(url)\n",
        "\n",
        "while True:\n",
        " try:\n",
        "  driver.find_element_by_css_selector('#load-more-cc-objects').click()\n",
        " except:\n",
        "  break\n",
        "  \n",
        "soup = BeautifulSoup(driver.page_source, features=\"html.parser\")\n",
        "reviews = soup.findAll('div', attrs={'class': 'text show-more__control'})\n",
        "listOfReviews = [review.get_text().replace('\\n', \"\") for review in reviews]\n",
        "df = pd.DataFrame({'User Reviews': listOfReviews})\n",
        "df.to_csv('userReviews.csv')\n",
        "df.head()\n",
        "\n",
        "#"
      ],
      "execution_count": null,
      "outputs": [
        {
          "data": {
            "text/html": [
              "<div>\n",
              "<style scoped>\n",
              "    .dataframe tbody tr th:only-of-type {\n",
              "        vertical-align: middle;\n",
              "    }\n",
              "\n",
              "    .dataframe tbody tr th {\n",
              "        vertical-align: top;\n",
              "    }\n",
              "\n",
              "    .dataframe thead th {\n",
              "        text-align: right;\n",
              "    }\n",
              "</style>\n",
              "<table border=\"1\" class=\"dataframe\">\n",
              "  <thead>\n",
              "    <tr style=\"text-align: right;\">\n",
              "      <th></th>\n",
              "      <th>User Reviews</th>\n",
              "    </tr>\n",
              "  </thead>\n",
              "  <tbody>\n",
              "    <tr>\n",
              "      <th>0</th>\n",
              "      <td>After 10 years of almost every movie being.arm...</td>\n",
              "    </tr>\n",
              "    <tr>\n",
              "      <th>1</th>\n",
              "      <td>Perfect Fantasy film to watch with full family...</td>\n",
              "    </tr>\n",
              "    <tr>\n",
              "      <th>2</th>\n",
              "      <td>Keeping it short. This movie had it all. Great...</td>\n",
              "    </tr>\n",
              "    <tr>\n",
              "      <th>3</th>\n",
              "      <td>Brought to you by the Truth Tellers.Film is gr...</td>\n",
              "    </tr>\n",
              "    <tr>\n",
              "      <th>4</th>\n",
              "      <td>Haven't been much of a Marvel guy even with th...</td>\n",
              "    </tr>\n",
              "  </tbody>\n",
              "</table>\n",
              "</div>"
            ],
            "text/plain": [
              "                                        User Reviews\n",
              "0  After 10 years of almost every movie being.arm...\n",
              "1  Perfect Fantasy film to watch with full family...\n",
              "2  Keeping it short. This movie had it all. Great...\n",
              "3  Brought to you by the Truth Tellers.Film is gr...\n",
              "4  Haven't been much of a Marvel guy even with th..."
            ]
          },
          "execution_count": 1,
          "metadata": {},
          "output_type": "execute_result"
        }
      ]
    },
    {
      "cell_type": "markdown",
      "metadata": {
        "id": "VK0YQfHfVfKA"
      },
      "source": [
        "Question 3 (10 points): Write python code to collect 1000 articles from Google Scholar (https://scholar.google.com/), Microsoft Academic (https://academic.microsoft.com/home), or CiteSeerX (https://citeseerx.ist.psu.edu/index), or Semantic Scholar (https://www.semanticscholar.org/). \n",
        "\n",
        "The following information of the article needs to be collected:\n",
        "\n",
        "(1) Title\n",
        "\n",
        "(2) Venue/journal/conference being published\n",
        "\n",
        "(3) Year\n",
        "\n",
        "(4) Authors\n",
        "\n",
        "(5) Abstract"
      ]
    },
    {
      "cell_type": "code",
      "metadata": {
        "id": "P_XhtYRYVfKB",
        "outputId": "2ce27687-6784-4fb7-f004-37be9a7cf17a"
      },
      "source": [
        "# You code here (Please add comments in the code):\n",
        "import urllib.request\n",
        "import requests\n",
        "from bs4 import BeautifulSoup\n",
        "import pandas as pd\n",
        "heading = []\n",
        "heading_description =[] \n",
        "text=[]  \n",
        "article = input(\"Enter keyword to search: \") \n",
        "for number in range(10,100,10): \n",
        "  req=\"https://citeseerx.ist.psu.edu/search?q=\"+article+\"&t=doc&sort=rlv&start=\"+str(number)\n",
        "  page = urllib.request.urlopen(req)\n",
        "  soup = BeautifulSoup(page)\n",
        "  title = soup.find_all('a',class_=\"remove doc_details\")  \n",
        "  username = soup.find_all('span',class_='authors')\n",
        "  text = soup.find_all('div',class_='snippet') \n",
        "  for element, sub_element,i in zip(username,title,text) : \n",
        "   heading.append(element.text) \n",
        "   heading_description.append(sub_element.text)\n",
        "   text.append(i.text)\n",
        "review_dataframe= pd.DataFrame(list(zip(heading,heading_description,text)), columns =['Heading', 'Heading Description','text'])\n",
        "review_dataframe\n",
        "  "
      ],
      "execution_count": null,
      "outputs": [
        {
          "name": "stdout",
          "output_type": "stream",
          "text": [
            "Enter keyword to search: nlp\n"
          ]
        },
        {
          "data": {
            "text/html": [
              "<div>\n",
              "<style scoped>\n",
              "    .dataframe tbody tr th:only-of-type {\n",
              "        vertical-align: middle;\n",
              "    }\n",
              "\n",
              "    .dataframe tbody tr th {\n",
              "        vertical-align: top;\n",
              "    }\n",
              "\n",
              "    .dataframe thead th {\n",
              "        text-align: right;\n",
              "    }\n",
              "</style>\n",
              "<table border=\"1\" class=\"dataframe\">\n",
              "  <thead>\n",
              "    <tr style=\"text-align: right;\">\n",
              "      <th></th>\n",
              "      <th>Heading</th>\n",
              "      <th>Heading Description</th>\n",
              "      <th>text</th>\n",
              "    </tr>\n",
              "  </thead>\n",
              "  <tbody>\n",
              "    <tr>\n",
              "      <th>0</th>\n",
              "      <td>by \\n                  Alan F. Smeaton\\n      ...</td>\n",
              "      <td>\\n                  Using NLP or NLP Resources...</td>\n",
              "      <td>[\"... A formal prosody description framework i...</td>\n",
              "    </tr>\n",
              "    <tr>\n",
              "      <th>1</th>\n",
              "      <td>by \\n                  Christopher D. Manning,...</td>\n",
              "      <td>\\n                  The Stanford CoreNLP Natur...</td>\n",
              "      <td>[\"... NLP ...\"]</td>\n",
              "    </tr>\n",
              "    <tr>\n",
              "      <th>2</th>\n",
              "      <td>by \\n                  Ewan Klein , Miles Osbo...</td>\n",
              "      <td>\\n                  GridNLP\\n</td>\n",
              "      <td>[\"... In this paper we argue for the need of N...</td>\n",
              "    </tr>\n",
              "    <tr>\n",
              "      <th>3</th>\n",
              "      <td>by \\n                  João Matias, Pedro Mest...</td>\n",
              "      <td>\\n                  Problem (NLP):\\n          ...</td>\n",
              "      <td>[\"... Sophisticated Natural Language Processin...</td>\n",
              "    </tr>\n",
              "    <tr>\n",
              "      <th>4</th>\n",
              "      <td>by \\n                  Wim Peters, Yorick Wilk...</td>\n",
              "      <td>\\nNLP Group\\n</td>\n",
              "      <td>[\"... The goal of this work is to apply NLP te...</td>\n",
              "    </tr>\n",
              "    <tr>\n",
              "      <th>5</th>\n",
              "      <td>by \\n                  Thomas Morton\\n        ...</td>\n",
              "      <td>\\n                  Coreference for NLP Applic...</td>\n",
              "      <td>[\"... The paper introduces the ways in which m...</td>\n",
              "    </tr>\n",
              "    <tr>\n",
              "      <th>6</th>\n",
              "      <td>by \\n                  Lynn Carlson,  Sergei N...</td>\n",
              "      <td>\\n                  World Modeling for NLP\\n</td>\n",
              "      <td>[\"... Language learning is a relatively new ap...</td>\n",
              "    </tr>\n",
              "    <tr>\n",
              "      <th>7</th>\n",
              "      <td>by \\n                  John Blitzer, Ryan Mcdo...</td>\n",
              "      <td>\\n                  Domain adaptation with str...</td>\n",
              "      <td>[\"... The proper interpretation of preposition...</td>\n",
              "    </tr>\n",
              "    <tr>\n",
              "      <th>8</th>\n",
              "      <td>by \\n                  Ellen Riloff  \\n       ...</td>\n",
              "      <td>\\n                  Automatically Constructing...</td>\n",
              "      <td>[\"...  ...\"]</td>\n",
              "    </tr>\n",
              "    <tr>\n",
              "      <th>9</th>\n",
              "      <td>by \\n                  Joseph Turian, Lev Rati...</td>\n",
              "      <td>\\n                  Word representations: A si...</td>\n",
              "      <td>[\"... This paper present an overview of some e...</td>\n",
              "    </tr>\n",
              "    <tr>\n",
              "      <th>10</th>\n",
              "      <td>by \\n                  Ekaterina Shutova\\n    ...</td>\n",
              "      <td>\\n                  Models of Metaphor in NLP\\n</td>\n",
              "      <td>\"... A formal prosody description framework is...</td>\n",
              "    </tr>\n",
              "    <tr>\n",
              "      <th>11</th>\n",
              "      <td>by \\n                  Alistair Knott,  Ian Ba...</td>\n",
              "      <td>\\n                  An architecture for biling...</td>\n",
              "      <td>\"... NLP ...\"</td>\n",
              "    </tr>\n",
              "    <tr>\n",
              "      <th>12</th>\n",
              "      <td>by \\n                  Dan Roth\\n             ...</td>\n",
              "      <td>\\n                  Memory Based Learning in N...</td>\n",
              "      <td>\"... In this paper we argue for the need of NL...</td>\n",
              "    </tr>\n",
              "    <tr>\n",
              "      <th>13</th>\n",
              "      <td>by \\n                  Adam Kilgarriff June, A...</td>\n",
              "      <td>\\n                  Business Models for Dictio...</td>\n",
              "      <td>\"... Sophisticated Natural Language Processing...</td>\n",
              "    </tr>\n",
              "    <tr>\n",
              "      <th>14</th>\n",
              "      <td>by \\n                  Enrique Alfonseca, Anto...</td>\n",
              "      <td>\\n                  The wraetlic NLP suite\\n  ...</td>\n",
              "      <td>\"... The goal of this work is to apply NLP tec...</td>\n",
              "    </tr>\n",
              "    <tr>\n",
              "      <th>15</th>\n",
              "      <td>by \\n                  Adam Kilgarriff\\n      ...</td>\n",
              "      <td>\\n                  Business models for Dictio...</td>\n",
              "      <td>\"... The paper introduces the ways in which me...</td>\n",
              "    </tr>\n",
              "    <tr>\n",
              "      <th>16</th>\n",
              "      <td>by \\n                  Dipti Misra Sharma\\n   ...</td>\n",
              "      <td>\\n                  On the Role of NLP in Ling...</td>\n",
              "      <td>\"... Language learning is a relatively new app...</td>\n",
              "    </tr>\n",
              "    <tr>\n",
              "      <th>17</th>\n",
              "      <td>by \\n                  Karen Sparck Jones\\n   ...</td>\n",
              "      <td>\\n                  What is the role of NLP in...</td>\n",
              "      <td>\"... The proper interpretation of prepositions...</td>\n",
              "    </tr>\n",
              "    <tr>\n",
              "      <th>18</th>\n",
              "      <td>by \\n                  Dan Klein,  Christopher...</td>\n",
              "      <td>\\n                  Conditional Structure vers...</td>\n",
              "      <td>\"...  ...\"</td>\n",
              "    </tr>\n",
              "    <tr>\n",
              "      <th>19</th>\n",
              "      <td>by \\n                  Bärbel Ripplinger\\n    ...</td>\n",
              "      <td>\\n                  The Use of NLP Techniques ...</td>\n",
              "      <td>\"... This paper present an overview of some em...</td>\n",
              "    </tr>\n",
              "  </tbody>\n",
              "</table>\n",
              "</div>"
            ],
            "text/plain": [
              "                                              Heading  \\\n",
              "0   by \\n                  Alan F. Smeaton\\n      ...   \n",
              "1   by \\n                  Christopher D. Manning,...   \n",
              "2   by \\n                  Ewan Klein , Miles Osbo...   \n",
              "3   by \\n                  João Matias, Pedro Mest...   \n",
              "4   by \\n                  Wim Peters, Yorick Wilk...   \n",
              "5   by \\n                  Thomas Morton\\n        ...   \n",
              "6   by \\n                  Lynn Carlson,  Sergei N...   \n",
              "7   by \\n                  John Blitzer, Ryan Mcdo...   \n",
              "8   by \\n                  Ellen Riloff  \\n       ...   \n",
              "9   by \\n                  Joseph Turian, Lev Rati...   \n",
              "10  by \\n                  Ekaterina Shutova\\n    ...   \n",
              "11  by \\n                  Alistair Knott,  Ian Ba...   \n",
              "12  by \\n                  Dan Roth\\n             ...   \n",
              "13  by \\n                  Adam Kilgarriff June, A...   \n",
              "14  by \\n                  Enrique Alfonseca, Anto...   \n",
              "15  by \\n                  Adam Kilgarriff\\n      ...   \n",
              "16  by \\n                  Dipti Misra Sharma\\n   ...   \n",
              "17  by \\n                  Karen Sparck Jones\\n   ...   \n",
              "18  by \\n                  Dan Klein,  Christopher...   \n",
              "19  by \\n                  Bärbel Ripplinger\\n    ...   \n",
              "\n",
              "                                  Heading Description  \\\n",
              "0   \\n                  Using NLP or NLP Resources...   \n",
              "1   \\n                  The Stanford CoreNLP Natur...   \n",
              "2                       \\n                  GridNLP\\n   \n",
              "3   \\n                  Problem (NLP):\\n          ...   \n",
              "4                     \\nNLP Group\\n                     \n",
              "5   \\n                  Coreference for NLP Applic...   \n",
              "6        \\n                  World Modeling for NLP\\n   \n",
              "7   \\n                  Domain adaptation with str...   \n",
              "8   \\n                  Automatically Constructing...   \n",
              "9   \\n                  Word representations: A si...   \n",
              "10    \\n                  Models of Metaphor in NLP\\n   \n",
              "11  \\n                  An architecture for biling...   \n",
              "12  \\n                  Memory Based Learning in N...   \n",
              "13  \\n                  Business Models for Dictio...   \n",
              "14  \\n                  The wraetlic NLP suite\\n  ...   \n",
              "15  \\n                  Business models for Dictio...   \n",
              "16  \\n                  On the Role of NLP in Ling...   \n",
              "17  \\n                  What is the role of NLP in...   \n",
              "18  \\n                  Conditional Structure vers...   \n",
              "19  \\n                  The Use of NLP Techniques ...   \n",
              "\n",
              "                                                 text  \n",
              "0   [\"... A formal prosody description framework i...  \n",
              "1                                     [\"... NLP ...\"]  \n",
              "2   [\"... In this paper we argue for the need of N...  \n",
              "3   [\"... Sophisticated Natural Language Processin...  \n",
              "4   [\"... The goal of this work is to apply NLP te...  \n",
              "5   [\"... The paper introduces the ways in which m...  \n",
              "6   [\"... Language learning is a relatively new ap...  \n",
              "7   [\"... The proper interpretation of preposition...  \n",
              "8                                        [\"...  ...\"]  \n",
              "9   [\"... This paper present an overview of some e...  \n",
              "10  \"... A formal prosody description framework is...  \n",
              "11                                      \"... NLP ...\"  \n",
              "12  \"... In this paper we argue for the need of NL...  \n",
              "13  \"... Sophisticated Natural Language Processing...  \n",
              "14  \"... The goal of this work is to apply NLP tec...  \n",
              "15  \"... The paper introduces the ways in which me...  \n",
              "16  \"... Language learning is a relatively new app...  \n",
              "17  \"... The proper interpretation of prepositions...  \n",
              "18                                         \"...  ...\"  \n",
              "19  \"... This paper present an overview of some em...  "
            ]
          },
          "execution_count": 21,
          "metadata": {},
          "output_type": "execute_result"
        }
      ]
    },
    {
      "cell_type": "code",
      "metadata": {
        "id": "yzubE53fVfKB",
        "outputId": "42777153-7f16-4a6b-a98c-8e6cd870a5d0"
      },
      "source": [
        ""
      ],
      "execution_count": null,
      "outputs": [
        {
          "data": {
            "text/plain": [
              "(25, 3)"
            ]
          },
          "execution_count": 141,
          "metadata": {},
          "output_type": "execute_result"
        }
      ]
    },
    {
      "cell_type": "markdown",
      "metadata": {
        "id": "C8oLuFv4VfKB"
      },
      "source": [
        "Question 4 (10 points): Write python code to collect 1000 posts from Twitter, or Facebook, or Instagram. You can either use hashtags, keywords, user_name, user_id, or other information to collect the data. \n",
        "\n",
        "The following information needs to be collected:\n",
        "\n",
        "(1) User_name\n",
        "\n",
        "(2) Posted time\n",
        "\n",
        "(3) Text "
      ]
    },
    {
      "cell_type": "code",
      "metadata": {
        "id": "qaZvWG2zVfKB"
      },
      "source": [
        "# You code here (Please add comments in the code):\n",
        "\n",
        "\n"
      ],
      "execution_count": null,
      "outputs": []
    }
  ]
}