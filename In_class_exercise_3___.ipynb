{
  "nbformat": 4,
  "nbformat_minor": 0,
  "metadata": {
    "colab": {
      "name": "In_class_exercise_3 __.ipynb",
      "provenance": [],
      "collapsed_sections": [],
      "include_colab_link": true
    },
    "kernelspec": {
      "display_name": "Python 3",
      "language": "python",
      "name": "python3"
    },
    "language_info": {
      "codemirror_mode": {
        "name": "ipython",
        "version": 3
      },
      "file_extension": ".py",
      "mimetype": "text/x-python",
      "name": "python",
      "nbconvert_exporter": "python",
      "pygments_lexer": "ipython3",
      "version": "3.8.8"
    }
  },
  "cells": [
    {
      "cell_type": "markdown",
      "metadata": {
        "id": "view-in-github",
        "colab_type": "text"
      },
      "source": [
        "<a href=\"https://colab.research.google.com/github/preetham3216/info5731-fall2021/blob/main/In_class_exercise_3___.ipynb\" target=\"_parent\"><img src=\"https://colab.research.google.com/assets/colab-badge.svg\" alt=\"Open In Colab\"/></a>"
      ]
    },
    {
      "cell_type": "markdown",
      "metadata": {
        "id": "GzujArgjd0wC"
      },
      "source": [
        "## The third In-class-exercise (9/29/2021, 40 points in total)"
      ]
    },
    {
      "cell_type": "markdown",
      "metadata": {
        "id": "SfzvUrTfd0wF"
      },
      "source": [
        "The purpose of this exercise is to understand text representation."
      ]
    },
    {
      "cell_type": "markdown",
      "metadata": {
        "id": "011OQOhNd0wF"
      },
      "source": [
        "Question 1 (10 points): Describe an interesting text classification or text mining task and explain what kind of features might be useful for you to build the machine learning model. List your features and explain why these features might be helpful. You need to list at least five different types of features."
      ]
    },
    {
      "cell_type": "code",
      "metadata": {
        "id": "WC-0A1Lyd0wG"
      },
      "source": [
        ""
      ],
      "execution_count": null,
      "outputs": []
    },
    {
      "cell_type": "code",
      "metadata": {
        "id": "UhE6Fr5Vd0wG",
        "outputId": "77abac92-0215-4932-a369-9b75af6ba884"
      },
      "source": [
        "# Your answer here (no code for this question, write down your answer as detail as possible for the above questions):\n",
        "\n",
        "'''\n",
        "Please write you answer here:. \n",
        "Summarizing Shang-chi movie based on IMDB reviews:\n",
        "Features are: \n",
        "titles \n",
        "user name and tiemofpost \n",
        "ratings \n",
        "content\n",
        "\n",
        "\n",
        "\n",
        "\n",
        "'''"
      ],
      "execution_count": null,
      "outputs": [
        {
          "data": {
            "text/plain": [
              "'\\nPlease write you answer here:. \\nSummarizing Shang-chi movie based on IMDB reviews:\\nFeatures are: \\ntitles \\nuser name and tiemofpost \\nratings \\ncontent\\n\\n\\n\\n\\n'"
            ]
          },
          "execution_count": 4,
          "metadata": {},
          "output_type": "execute_result"
        }
      ]
    },
    {
      "cell_type": "markdown",
      "metadata": {
        "id": "-B7SfWted0wH"
      },
      "source": [
        "Question 2 (20 points): Write python code to extract these features you discussed above. You can collect a few sample text data for the feature extraction. "
      ]
    },
    {
      "cell_type": "code",
      "metadata": {
        "colab": {
          "base_uri": "https://localhost:8080/",
          "height": 206
        },
        "id": "-qZcueufd0wI",
        "outputId": "f5510398-0007-4106-d023-a0f0ea37dc03"
      },
      "source": [
        "import urllib.request\n",
        "from bs4 import BeautifulSoup\n",
        "soup = BeautifulSoup(urllib.request.urlopen(\"https://www.imdb.com/title/tt9376612/reviews?ref_=tt_urv\")) \n",
        "reviews= soup.find_all(class_=\"lister-item-content\") \n",
        "titles,tiemofpost,content,rating=[],[],[],[]\n",
        "for a,b,c,d in zip(soup.findAll(class_='title'),soup.findAll(class_='display-name-date'),soup.findAll(class_='content'),soup.findAll(class_='ipl-ratings-bar')):\n",
        "        titles.append(a.text.strip())\n",
        "        tiemofpost.append(b.text.strip())\n",
        "        content.append(c.text.strip())\n",
        "        rating.append(d.text.strip())\n",
        "\n",
        "import pandas as pd\n",
        "reviews = pd.DataFrame({\"titles\": titles,\"user name and tiemofpost\":tiemofpost,\"ratings\":rating,\"content\":content})\n",
        "reviews.head()"
      ],
      "execution_count": null,
      "outputs": [
        {
          "data": {
            "text/html": [
              "<div>\n",
              "<style scoped>\n",
              "    .dataframe tbody tr th:only-of-type {\n",
              "        vertical-align: middle;\n",
              "    }\n",
              "\n",
              "    .dataframe tbody tr th {\n",
              "        vertical-align: top;\n",
              "    }\n",
              "\n",
              "    .dataframe thead th {\n",
              "        text-align: right;\n",
              "    }\n",
              "</style>\n",
              "<table border=\"1\" class=\"dataframe\">\n",
              "  <thead>\n",
              "    <tr style=\"text-align: right;\">\n",
              "      <th></th>\n",
              "      <th>titles</th>\n",
              "      <th>user name and tiemofpost</th>\n",
              "      <th>ratings</th>\n",
              "      <th>content</th>\n",
              "    </tr>\n",
              "  </thead>\n",
              "  <tbody>\n",
              "    <tr>\n",
              "      <th>0</th>\n",
              "      <td>Who knew a superhero film could be so beautiful?</td>\n",
              "      <td>dominicwood-145044 September 2021</td>\n",
              "      <td>9/10</td>\n",
              "      <td>I'll start by saying that if you're looking fo...</td>\n",
              "    </tr>\n",
              "    <tr>\n",
              "      <th>1</th>\n",
              "      <td>something unique and fresh</td>\n",
              "      <td>laviniadallam2 September 2021</td>\n",
              "      <td>10/10</td>\n",
              "      <td>After 10 years of almost every movie being.arm...</td>\n",
              "    </tr>\n",
              "    <tr>\n",
              "      <th>2</th>\n",
              "      <td>Crouching Tiger, Hidden MARVEL . . . And So MU...</td>\n",
              "      <td>Radio-1s_Mr-MovieMad-Ami_104-1FM8 September 2021</td>\n",
              "      <td>9/10</td>\n",
              "      <td>A -BIG- Screen Mini Review. Viewed Sept.05, 20...</td>\n",
              "    </tr>\n",
              "    <tr>\n",
              "      <th>3</th>\n",
              "      <td>It's a Visual treat</td>\n",
              "      <td>mhatreritesh4 September 2021</td>\n",
              "      <td>9/10</td>\n",
              "      <td>Perfect Fantasy film to watch with full family...</td>\n",
              "    </tr>\n",
              "    <tr>\n",
              "      <th>4</th>\n",
              "      <td>Best non-avengers MCU movie</td>\n",
              "      <td>nishantsalhotrans6 September 2021</td>\n",
              "      <td>10/10</td>\n",
              "      <td>Keeping it short. This movie had it all. Great...</td>\n",
              "    </tr>\n",
              "  </tbody>\n",
              "</table>\n",
              "</div>"
            ],
            "text/plain": [
              "                                              titles  \\\n",
              "0   Who knew a superhero film could be so beautiful?   \n",
              "1                         something unique and fresh   \n",
              "2  Crouching Tiger, Hidden MARVEL . . . And So MU...   \n",
              "3                                It's a Visual treat   \n",
              "4                        Best non-avengers MCU movie   \n",
              "\n",
              "                           user name and tiemofpost ratings  \\\n",
              "0                 dominicwood-145044 September 2021    9/10   \n",
              "1                     laviniadallam2 September 2021   10/10   \n",
              "2  Radio-1s_Mr-MovieMad-Ami_104-1FM8 September 2021    9/10   \n",
              "3                      mhatreritesh4 September 2021    9/10   \n",
              "4                 nishantsalhotrans6 September 2021   10/10   \n",
              "\n",
              "                                             content  \n",
              "0  I'll start by saying that if you're looking fo...  \n",
              "1  After 10 years of almost every movie being.arm...  \n",
              "2  A -BIG- Screen Mini Review. Viewed Sept.05, 20...  \n",
              "3  Perfect Fantasy film to watch with full family...  \n",
              "4  Keeping it short. This movie had it all. Great...  "
            ]
          },
          "execution_count": 5,
          "metadata": {},
          "output_type": "execute_result"
        }
      ]
    },
    {
      "cell_type": "code",
      "metadata": {
        "colab": {
          "base_uri": "https://localhost:8080/",
          "height": 241
        },
        "id": "GIBqYJ-Nd0wI",
        "outputId": "879e2b79-93b9-45f9-8e10-103156b2ccce"
      },
      "source": [
        "import nltk\n",
        "nltk.download('stopwords')\n",
        "reviews = pd.DataFrame({\"titles\": reviews['titles']})\n",
        "reviews['titles'] = reviews['titles'].apply(lambda x: \" \".join(x.lower() for x in x.split()))\n",
        "reviews['titles'] = reviews['titles'].str.replace('[^\\w\\s]','')\n",
        "from nltk.corpus import stopwords\n",
        "stop = stopwords.words('english')\n",
        "reviews['titles'] = reviews['titles'].apply(lambda x: \" \".join(x for x in x.split() if x not in stop))\n",
        "reviews.head()"
      ],
      "execution_count": null,
      "outputs": [
        {
          "name": "stderr",
          "output_type": "stream",
          "text": [
            "[nltk_data] Downloading package stopwords to\n",
            "[nltk_data]     C:\\Users\\preet\\AppData\\Roaming\\nltk_data...\n",
            "[nltk_data]   Package stopwords is already up-to-date!\n",
            "<ipython-input-6-1596dcba06db>:5: FutureWarning: The default value of regex will change from True to False in a future version.\n",
            "  reviews['titles'] = reviews['titles'].str.replace('[^\\w\\s]','')\n"
          ]
        },
        {
          "data": {
            "text/html": [
              "<div>\n",
              "<style scoped>\n",
              "    .dataframe tbody tr th:only-of-type {\n",
              "        vertical-align: middle;\n",
              "    }\n",
              "\n",
              "    .dataframe tbody tr th {\n",
              "        vertical-align: top;\n",
              "    }\n",
              "\n",
              "    .dataframe thead th {\n",
              "        text-align: right;\n",
              "    }\n",
              "</style>\n",
              "<table border=\"1\" class=\"dataframe\">\n",
              "  <thead>\n",
              "    <tr style=\"text-align: right;\">\n",
              "      <th></th>\n",
              "      <th>titles</th>\n",
              "    </tr>\n",
              "  </thead>\n",
              "  <tbody>\n",
              "    <tr>\n",
              "      <th>0</th>\n",
              "      <td>knew superhero film could beautiful</td>\n",
              "    </tr>\n",
              "    <tr>\n",
              "      <th>1</th>\n",
              "      <td>something unique fresh</td>\n",
              "    </tr>\n",
              "    <tr>\n",
              "      <th>2</th>\n",
              "      <td>crouching tiger hidden marvel much much much</td>\n",
              "    </tr>\n",
              "    <tr>\n",
              "      <th>3</th>\n",
              "      <td>visual treat</td>\n",
              "    </tr>\n",
              "    <tr>\n",
              "      <th>4</th>\n",
              "      <td>best nonavengers mcu movie</td>\n",
              "    </tr>\n",
              "  </tbody>\n",
              "</table>\n",
              "</div>"
            ],
            "text/plain": [
              "                                         titles\n",
              "0           knew superhero film could beautiful\n",
              "1                        something unique fresh\n",
              "2  crouching tiger hidden marvel much much much\n",
              "3                                  visual treat\n",
              "4                    best nonavengers mcu movie"
            ]
          },
          "execution_count": 6,
          "metadata": {},
          "output_type": "execute_result"
        }
      ]
    },
    {
      "cell_type": "markdown",
      "metadata": {
        "id": "h5Nyn96ed0wJ"
      },
      "source": [
        "Question 3 (10 points): Use any of the feature selection methods mentioned in this paper \"Deng, X., Li, Y., Weng, J., & Zhang, J. (2019). Feature selection for text classification: A review. Multimedia Tools & Applications, 78(3).\" Select the most important features you extracted above, rank the features based on their importance in the descending order. "
      ]
    },
    {
      "cell_type": "code",
      "metadata": {
        "colab": {
          "base_uri": "https://localhost:8080/",
          "height": 217
        },
        "id": "-frBOcl7d0wK",
        "outputId": "2ae90952-17a1-48a4-e21f-b148b19e6a50"
      },
      "source": [
        "from sklearn.feature_extraction.text import TfidfVectorizer\n",
        "feature_transformer = TfidfVectorizer().fit_transform(reviews['titles'])\n",
        "important_features = np.array(a.get_feature_names())[np.argsort(np.asarray(feature_transformer.sum(axis=0)).ravel())[::-1]]\n",
        "important_features"
      ],
      "execution_count": null,
      "outputs": [
        {
          "data": {
            "text/plain": [
              "array(['marvel', 'fantastic', 'movie', 'good', 'movies', 'reviews',\n",
              "       'amazing', 'best', 'film', 'mcu', 'one', 'much', 'patterns',\n",
              "       'great', 'beautiful', 'masterpiece', '710', 'cinematic',\n",
              "       'absolute', 'banger', 'visual', 'strong', 'treat', 'say', 'return',\n",
              "       'fun', 'supposed', 'something', 'unique', 'scorsese', 'martin',\n",
              "       'fresh', 'right', 'nonavengers', 'disneying', 'stop', 'dammit',\n",
              "       'year', 'whats', 'horrid', 'visuals', 'storyline', 'extreme',\n",
              "       'positive', 'worst', 'probably', 'knew', 'could', 'superhero',\n",
              "       'arts', 'martial', 'galore', 'honestly', 'bad', 'saying', 'people',\n",
              "       'also', 'quite', 'first', 'leungs', 'loved', 'half', 'watch',\n",
              "       'tony', 'villain', 'already', 'anything', 'expect', 'honest',\n",
              "       'havent', 'decent', 'dont', 'seen', 'tiger', 'crouching', 'hidden'],\n",
              "      dtype='<U11')"
            ]
          },
          "execution_count": 17,
          "metadata": {},
          "output_type": "execute_result"
        }
      ]
    },
    {
      "cell_type": "code",
      "metadata": {
        "id": "ikCT4_4Bd0wK"
      },
      "source": [
        ""
      ],
      "execution_count": null,
      "outputs": []
    },
    {
      "cell_type": "code",
      "metadata": {
        "id": "La-9SLuQpS-h"
      },
      "source": [
        ""
      ],
      "execution_count": null,
      "outputs": []
    }
  ]
}