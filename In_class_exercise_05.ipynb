{
  "nbformat": 4,
  "nbformat_minor": 0,
  "metadata": {
    "kernelspec": {
      "display_name": "Python 3",
      "language": "python",
      "name": "python3"
    },
    "language_info": {
      "codemirror_mode": {
        "name": "ipython",
        "version": 3
      },
      "file_extension": ".py",
      "mimetype": "text/x-python",
      "name": "python",
      "nbconvert_exporter": "python",
      "pygments_lexer": "ipython3",
      "version": "3.8.8"
    },
    "colab": {
      "name": "In_class_exercise_05-1 (1) (1).ipynb",
      "provenance": [],
      "include_colab_link": true
    }
  },
  "cells": [
    {
      "cell_type": "markdown",
      "metadata": {
        "id": "view-in-github",
        "colab_type": "text"
      },
      "source": [
        "<a href=\"https://colab.research.google.com/github/preetham3216/info5731-fall2021/blob/main/In_class_exercise_05.ipynb\" target=\"_parent\"><img src=\"https://colab.research.google.com/assets/colab-badge.svg\" alt=\"Open In Colab\"/></a>"
      ]
    },
    {
      "cell_type": "markdown",
      "metadata": {
        "id": "SxjMMCoTKdyH"
      },
      "source": [
        "# **The fifth in-class-exercise (40 points in total, 11/11/2021)**"
      ]
    },
    {
      "cell_type": "markdown",
      "metadata": {
        "id": "zDl-9BSdKdyI"
      },
      "source": [
        "(20 points) The purpose of the question is to practice different machine learning algorithms for text classification as well as the performance evaluation. In addition, you are requried to conduct *10 fold cross validation (https://scikit-learn.org/stable/modules/cross_validation.html)* in the training. \n",
        "\n",
        "The dataset can be download from here: https://github.com/unt-iialab/info5731_spring2021/blob/main/class_exercises/exercise09_datacollection.zip. The dataset contains two files train data and test data for sentiment analysis in IMDB review, it has two categories: 1 represents positive and 0 represents negative. You need to split the training data into training and validate data (80% for training and 20% for validation, https://towardsdatascience.com/train-test-split-and-cross-validation-in-python-80b61beca4b6) and perform 10 fold cross validation while training the classifier. The final trained model was final evaluated on the test data. \n",
        "\n",
        "Algorithms:\n",
        "\n",
        "(1) MultinominalNB\n",
        "\n",
        "(2) SVM \n",
        "\n",
        "(3) KNN \n",
        "\n",
        "(4) Decision tree\n",
        "\n",
        "(5) Random Forest\n",
        "\n",
        "(6) XGBoost\n",
        "\n",
        "Evaluation measurement:\n",
        "\n",
        "(1) Accuracy\n",
        "\n",
        "(2) Recall\n",
        "\n",
        "(3) Precison \n",
        "\n",
        "(4) F-1 score"
      ]
    },
    {
      "cell_type": "code",
      "metadata": {
        "id": "0SrpSp4VKdyJ",
        "outputId": "9d974b07-3162-4420-8e6a-2d3a5f1050ec"
      },
      "source": [
        "import pandas as pd\n",
        "from textblob import Word\n",
        "import nltk\n",
        "nltk.download('wordnet')\n",
        "nltk.download('punkt')\n",
        "from textblob import TextBlob\n",
        "import requests\n",
        "from nltk.stem import PorterStemmer\n",
        "from sklearn import model_selection, preprocessing, naive_bayes, metrics, svm\n",
        "from sklearn import model_selection, preprocessing, linear_model, naive_bayes, metrics, svm\n",
        "from sklearn.feature_extraction.text import TfidfVectorizer, CountVectorizer\n",
        "from sklearn import decomposition, ensemble\n",
        "from sklearn.model_selection import cross_val_score, KFold\n",
        "from sklearn import metrics\n",
        "import warnings\n",
        "warnings.filterwarnings(\"ignore\", category=UserWarning)\n",
        "from sklearn.neighbors import KNeighborsClassifier\n",
        "from sklearn.tree import DecisionTreeClassifier\n",
        "from sklearn.ensemble import RandomForestClassifier\n",
        "from xgboost import XGBClassifier\n",
        "\n",
        "train_data = open(r\"C:\\Users\\preet\\Downloads\\exercise09_datacollection\\exercise09_datacollection\\stsa-train.txt\").read()\n",
        "train_labels, train_text = [], []\n",
        "test_labels, test_text = [], []\n",
        "for i, line in enumerate(train_data.split(\"\\n\")):\n",
        "    content = line.split(\" \")\n",
        "    train_labels.append(content[0])\n",
        "    train_text.append(\" \".join(content[1:]))\n",
        "train_dataframe = pd.DataFrame (list(zip(train_text, train_labels)) , columns = ['text', 'label'])\n",
        "train_dataframe.head()"
      ],
      "execution_count": null,
      "outputs": [
        {
          "name": "stderr",
          "output_type": "stream",
          "text": [
            "[nltk_data] Downloading package wordnet to\n",
            "[nltk_data]     C:\\Users\\preet\\AppData\\Roaming\\nltk_data...\n",
            "[nltk_data]   Package wordnet is already up-to-date!\n",
            "[nltk_data] Downloading package punkt to\n",
            "[nltk_data]     C:\\Users\\preet\\AppData\\Roaming\\nltk_data...\n",
            "[nltk_data]   Package punkt is already up-to-date!\n"
          ]
        },
        {
          "data": {
            "text/html": [
              "<div>\n",
              "<style scoped>\n",
              "    .dataframe tbody tr th:only-of-type {\n",
              "        vertical-align: middle;\n",
              "    }\n",
              "\n",
              "    .dataframe tbody tr th {\n",
              "        vertical-align: top;\n",
              "    }\n",
              "\n",
              "    .dataframe thead th {\n",
              "        text-align: right;\n",
              "    }\n",
              "</style>\n",
              "<table border=\"1\" class=\"dataframe\">\n",
              "  <thead>\n",
              "    <tr style=\"text-align: right;\">\n",
              "      <th></th>\n",
              "      <th>text</th>\n",
              "      <th>label</th>\n",
              "    </tr>\n",
              "  </thead>\n",
              "  <tbody>\n",
              "    <tr>\n",
              "      <th>0</th>\n",
              "      <td>a stirring , funny and finally transporting re...</td>\n",
              "      <td>1</td>\n",
              "    </tr>\n",
              "    <tr>\n",
              "      <th>1</th>\n",
              "      <td>apparently reassembled from the cutting-room f...</td>\n",
              "      <td>0</td>\n",
              "    </tr>\n",
              "    <tr>\n",
              "      <th>2</th>\n",
              "      <td>they presume their audience wo n't sit still f...</td>\n",
              "      <td>0</td>\n",
              "    </tr>\n",
              "    <tr>\n",
              "      <th>3</th>\n",
              "      <td>this is a visually stunning rumination on love...</td>\n",
              "      <td>1</td>\n",
              "    </tr>\n",
              "    <tr>\n",
              "      <th>4</th>\n",
              "      <td>jonathan parker 's bartleby should have been t...</td>\n",
              "      <td>1</td>\n",
              "    </tr>\n",
              "  </tbody>\n",
              "</table>\n",
              "</div>"
            ],
            "text/plain": [
              "                                                text label\n",
              "0  a stirring , funny and finally transporting re...     1\n",
              "1  apparently reassembled from the cutting-room f...     0\n",
              "2  they presume their audience wo n't sit still f...     0\n",
              "3  this is a visually stunning rumination on love...     1\n",
              "4  jonathan parker 's bartleby should have been t...     1"
            ]
          },
          "execution_count": 72,
          "metadata": {},
          "output_type": "execute_result"
        }
      ]
    },
    {
      "cell_type": "code",
      "metadata": {
        "scrolled": true,
        "id": "sZl3WaSrKdyK",
        "outputId": "32654fd7-eb7a-4197-bd42-930eaee7a338"
      },
      "source": [
        "test_data = open(r\"C:\\Users\\preet\\Downloads\\exercise09_datacollection\\exercise09_datacollection\\stsa-test.txt\").read()\n",
        "test_labels, test_text = [], []\n",
        "for i, line in enumerate(test_data.split(\"\\n\")):\n",
        "    content = line.split(\" \")\n",
        "    test_labels.append(content[0])\n",
        "    test_text.append(\" \".join(content[1:]))\n",
        "test_dataframe = pd.DataFrame (list(zip(test_text, test_labels)) , columns = ['text', 'label'])\n",
        "test_dataframe.head()"
      ],
      "execution_count": null,
      "outputs": [
        {
          "data": {
            "text/html": [
              "<div>\n",
              "<style scoped>\n",
              "    .dataframe tbody tr th:only-of-type {\n",
              "        vertical-align: middle;\n",
              "    }\n",
              "\n",
              "    .dataframe tbody tr th {\n",
              "        vertical-align: top;\n",
              "    }\n",
              "\n",
              "    .dataframe thead th {\n",
              "        text-align: right;\n",
              "    }\n",
              "</style>\n",
              "<table border=\"1\" class=\"dataframe\">\n",
              "  <thead>\n",
              "    <tr style=\"text-align: right;\">\n",
              "      <th></th>\n",
              "      <th>text</th>\n",
              "      <th>label</th>\n",
              "    </tr>\n",
              "  </thead>\n",
              "  <tbody>\n",
              "    <tr>\n",
              "      <th>0</th>\n",
              "      <td>no movement , no yuks , not much of anything .</td>\n",
              "      <td>0</td>\n",
              "    </tr>\n",
              "    <tr>\n",
              "      <th>1</th>\n",
              "      <td>a gob of drivel so sickly sweet , even the eag...</td>\n",
              "      <td>0</td>\n",
              "    </tr>\n",
              "    <tr>\n",
              "      <th>2</th>\n",
              "      <td>gangs of new york is an unapologetic mess , wh...</td>\n",
              "      <td>0</td>\n",
              "    </tr>\n",
              "    <tr>\n",
              "      <th>3</th>\n",
              "      <td>we never really feel involved with the story ,...</td>\n",
              "      <td>0</td>\n",
              "    </tr>\n",
              "    <tr>\n",
              "      <th>4</th>\n",
              "      <td>this is one of polanski 's best films .</td>\n",
              "      <td>1</td>\n",
              "    </tr>\n",
              "  </tbody>\n",
              "</table>\n",
              "</div>"
            ],
            "text/plain": [
              "                                                text label\n",
              "0     no movement , no yuks , not much of anything .     0\n",
              "1  a gob of drivel so sickly sweet , even the eag...     0\n",
              "2  gangs of new york is an unapologetic mess , wh...     0\n",
              "3  we never really feel involved with the story ,...     0\n",
              "4            this is one of polanski 's best films .     1"
            ]
          },
          "execution_count": 73,
          "metadata": {},
          "output_type": "execute_result"
        }
      ]
    },
    {
      "cell_type": "code",
      "metadata": {
        "id": "FlS_Q24zKdyK",
        "outputId": "eeb0c8bd-7fc3-4ef1-8908-65e6d0edc055"
      },
      "source": [
        "def cleans(df):\n",
        "  df[\"punctuationremoval\"] = df[\"text\"].str.replace('[^\\w\\s]','')\n",
        "  df['special_chars'] = df[\"punctuationremoval\"].str.replace('[^A-Za-z0-9 ]+','')\n",
        "  df['nums_removed'] = df[\"special_chars\"].str.replace('[^A-Za-z ]+','')\n",
        "  data = requests.get(\"https://gist.githubusercontent.com/sebleier/554280/raw/7e0e4a1ce04c2bb7bd41089c9821dbcf6d0c786c/NLTK's%2520list%2520of%2520english%2520stopwords\")\n",
        "  a = data.text\n",
        "  stop = a.split()\n",
        "  df['stopwords'] = df[\"nums_removed\"].apply(lambda x: \" \".join(x for x in x.split() if x not in stop))\n",
        "  df[\"lower_case\"] = df['stopwords'].apply(lambda x: \" \".join(x.lower() for x in x.split()))\n",
        "  df[\"tokenization\"] = df[\"lower_case\"].apply(lambda x: TextBlob(x).words)\n",
        "  st = PorterStemmer()\n",
        "  df[\"stemming\"]= df[\"tokenization\"].apply(lambda x: \" \".join([st.stem(word) for word in x]))\n",
        "  df[\"lemmatization\"] = df[\"stemming\"].apply(lambda x: \" \".join([Word(word).lemmatize() for word in x.split()]))\n",
        "  return df\n",
        "traindf = cleans(train_dataframe)\n",
        "testdf = cleans(test_dataframe)"
      ],
      "execution_count": null,
      "outputs": [
        {
          "name": "stderr",
          "output_type": "stream",
          "text": [
            "<ipython-input-77-ed8b68753d81>:2: FutureWarning: The default value of regex will change from True to False in a future version.\n",
            "  df[\"punctuationremoval\"] = df[\"text\"].str.replace('[^\\w\\s]','')\n",
            "<ipython-input-77-ed8b68753d81>:3: FutureWarning: The default value of regex will change from True to False in a future version.\n",
            "  df['special_chars'] = df[\"punctuationremoval\"].str.replace('[^A-Za-z0-9 ]+','')\n",
            "<ipython-input-77-ed8b68753d81>:4: FutureWarning: The default value of regex will change from True to False in a future version.\n",
            "  df['nums_removed'] = df[\"special_chars\"].str.replace('[^A-Za-z ]+','')\n"
          ]
        }
      ]
    },
    {
      "cell_type": "code",
      "metadata": {
        "id": "Q2kTZwQKKdyK"
      },
      "source": [
        "tf_vec = TfidfVectorizer(analyzer='word')\n",
        "tf_vec.fit(traindf['lemmatization'])\n",
        "x_tf =  tf_vec.transform(traindf['lemmatization'])\n",
        "vec_test = TfidfVectorizer(analyzer='word', vocabulary = tf_vec.vocabulary_)\n",
        "vec_test.fit(testdf['lemmatization'])\n",
        "test_x = vec_test.transform(testdf['lemmatization'])\n",
        "test_y = testdf['label']\n",
        "from sklearn import model_selection, preprocessing\n",
        "train_x, valid_x, train_y, valid_y = model_selection.train_test_split(x_tfidf, traindf['label'], test_size=0.2)"
      ],
      "execution_count": null,
      "outputs": []
    },
    {
      "cell_type": "code",
      "metadata": {
        "id": "JzUvYwaJKdyL",
        "outputId": "a08f2658-91b8-486a-c0ff-47baee44a230"
      },
      "source": [
        "def model_fitting(x1, y1, x2, y2,model_name):\n",
        "  if model_name=='NB':\n",
        "      model=naive_bayes.MultinomialNB()\n",
        "  elif model_name=='svc':\n",
        "      model=svm.SVC()\n",
        "  elif model_name=='knn':\n",
        "      model=KNeighborsClassifier(n_neighbors = 15)\n",
        "  elif model_name=='dt':\n",
        "      model=DecisionTreeClassifier()\n",
        "  elif model_name=='rf':\n",
        "      model=RandomForestClassifier()\n",
        "  elif model_name=='xgb':\n",
        "      model=XGBClassifier()  \n",
        "  model.fit(x1, y1)\n",
        "  predicts = model.predict(x2)\n",
        "  accuracy, precision, recall, f1 = get_metrics(predicts, y2)\n",
        "  score = get_cross_score(model, x2, y2)\n",
        "  return accuracy, precision, recall, f1, score\n",
        "def get_cross_score(modelName, x, y):\n",
        "  kfold = KFold(10, random_state = 7,shuffle=True)\n",
        "  return cross_val_score(modelName, x, y, cv=kfold).mean()\n",
        "def get_metrics(predictions, test_data_y):\n",
        "  accuracy = metrics.accuracy_score(predictions, test_data_y)\n",
        "  precision = metrics.precision_score(predictions, test_data_y, pos_label='positive', average='micro')\n",
        "  recall = metrics.recall_score(predictions, test_data_y, pos_label='positive', average='micro')\n",
        "  f1 = metrics.f1_score(predictions, test_data_y, pos_label='positive', average='micro')\n",
        "  return accuracy, precision, recall, f1\n",
        "accuracy_nb, precision_nb, recall_nb, f1_nb, nb_score = model_fitting(train_x, train_y, valid_x, valid_y,'NB')\n",
        "print(\"Naive Bayes Model:\\n\")\n",
        "print(\"Training Data:\\nAccuracy : {0}\\nPrecision : {1}\\nRecall : {2}\\nF1 : {3}\\nCross validation Score : {4}\".format(accuracy_nb, precision_nb, recall_nb, f1_nb, nb_score))\n",
        "accuracy_nbt, precision_nbt, recall_nbt, f1_nbt, nb_scoret = model_fitting(train_x, train_y, test_x, test_y,'NB')\n",
        "print(\"\\nTest Data:\\nAccuracy : {0}\\nPrecision : {1}\\nRecall : {2}\\nF1 : {3}\\nCross validation Score : {4}\".format(accuracy_nbt, precision_nbt, recall_nbt, f1_nbt, nb_scoret))"
      ],
      "execution_count": null,
      "outputs": [
        {
          "name": "stdout",
          "output_type": "stream",
          "text": [
            "Naive Bayes Model:\n",
            "\n",
            "Training Data:\n",
            "Accuracy : 0.8036101083032491\n",
            "Precision : 0.8036101083032491\n",
            "Recall : 0.8036101083032491\n",
            "F1 : 0.8036101083032491\n",
            "Cross validation Score : 0.7242154102804713\n",
            "\n",
            "Test Data:\n",
            "Accuracy : 0.7974753018660812\n",
            "Precision : 0.7974753018660812\n",
            "Recall : 0.7974753018660812\n",
            "F1 : 0.7974753018660812\n",
            "Cross validation Score : 0.7365219479973579\n"
          ]
        }
      ]
    },
    {
      "cell_type": "code",
      "metadata": {
        "id": "S5awcmPwKdyL",
        "outputId": "9ebfdf34-235a-48a8-dc8d-2536cc657890"
      },
      "source": [
        "accuracy_svm, precision_svm, recall_svm, f1_svm, svm_score = model_fitting(train_x, train_y, valid_x, valid_y,'svc')\n",
        "print(\"SVM Model:\\n\")\n",
        "print(\"Training Data:\\nAccuracy : {0}\\nPrecision : {1}\\nRecall : {2}\\nF1 : {3}\\nCross validation Score : {4}\".format(accuracy_svm, precision_svm, recall_svm, f1_svm, svm_score))\n",
        "accuracy_svmt, precision_svmt, recall_svmt, f1_svmt, svm_scoret = model_fitting(train_x, train_y, test_x, test_y,'svc')\n",
        "print(\"\\nTest Data:\\nAccuracy : {0}\\nPrecision : {1}\\nRecall : {2}\\nF1 : {3}\\nCross validation Score : {4}\".format(accuracy_svmt, precision_svmt, recall_svmt, f1_svmt, svm_scoret))"
      ],
      "execution_count": null,
      "outputs": [
        {
          "name": "stdout",
          "output_type": "stream",
          "text": [
            "SVM Model:\n",
            "\n",
            "Training Data:\n",
            "Accuracy : 0.7942238267148014\n",
            "Precision : 0.7942238267148014\n",
            "Recall : 0.7942238267148014\n",
            "F1 : 0.7942238267148014\n",
            "Cross validation Score : 0.7198623709727869\n",
            "\n",
            "Test Data:\n",
            "Accuracy : 0.7925356750823271\n",
            "Precision : 0.7925356750823271\n",
            "Recall : 0.7925356750823271\n",
            "F1 : 0.7925356750823271\n",
            "Cross validation Score : 0.7425689065033328\n"
          ]
        }
      ]
    },
    {
      "cell_type": "code",
      "metadata": {
        "id": "R9hvTTcTKdyL",
        "outputId": "cf603240-eedb-47a0-94c1-08ea538a0e43"
      },
      "source": [
        "accuracy_knn, precision_knn, recall_knn, f1_knn, knn_score = model_fitting(train_x, train_y, valid_x, valid_y,'knn')\n",
        "print(\"KNN Model:\\n\")\n",
        "print(\"Training Data:\\nAccuracy : {0}\\nPrecision : {1}\\nRecall : {2}\\nF1 : {3}\\nCross validation Score : {4}\".format(accuracy_knn, precision_knn, recall_knn, f1_knn, knn_score))\n",
        "accuracy_knnt, precision_knnt, recall_knnt, f1_knnt, knn_scoret = model_fitting(train_x, train_y, test_x, test_y,'knn')\n",
        "print(\"\\nTest Data:\\nAccuracy : {0}\\nPrecision : {1}\\nRecall : {2}\\nF1 : {3}\\nCross validation Score : {4}\".format(accuracy_knnt, precision_knnt, recall_knnt, f1_knnt, knn_scoret))"
      ],
      "execution_count": null,
      "outputs": [
        {
          "name": "stdout",
          "output_type": "stream",
          "text": [
            "KNN Model:\n",
            "\n",
            "Training Data:\n",
            "Accuracy : 0.6989169675090253\n",
            "Precision : 0.6989169675090253\n",
            "Recall : 0.6989169675090253\n",
            "F1 : 0.6989169675090253\n",
            "Cross validation Score : 0.6917161922635804\n",
            "\n",
            "Test Data:\n",
            "Accuracy : 0.7184412733260154\n",
            "Precision : 0.7184412733260154\n",
            "Recall : 0.7184412733260154\n",
            "F1 : 0.7184412733260154\n",
            "Cross validation Score : 0.6465381612922597\n"
          ]
        }
      ]
    },
    {
      "cell_type": "code",
      "metadata": {
        "id": "1LP5qTGdKdyL",
        "outputId": "5fc283ec-64e1-48f9-9e26-918fa121a6e3"
      },
      "source": [
        "accuracy_dt, precision_dt, recall_dt, f1_dt, dt_score = model_fitting(train_x, train_y, valid_x, valid_y,'dt')\n",
        "print(\"Decision Tree:\\n\")\n",
        "print(\"Training Data:\\nAccuracy : {0}\\nPrecision : {1}\\nRecall : {2}\\nF1 : {3}\\nCross validation Score : {4}\".format(accuracy_dt, precision_dt, recall_dt, f1_dt, dt_score))\n",
        "accuracy_dtt, precision_dtt, recall_dtt, f1_dtt, dt_scoret = model_fitting(train_x, train_y, test_x, test_y,'dt')\n",
        "print(\"\\nTest Data:\\nAccuracy : {0}\\nPrecision : {1}\\nRecall : {2}\\nF1 : {3}\\nCross validation Score : {4}\".format(accuracy_dtt, precision_dtt, recall_dtt, f1_dtt, dt_scoret))"
      ],
      "execution_count": null,
      "outputs": [
        {
          "name": "stdout",
          "output_type": "stream",
          "text": [
            "Decision Tree:\n",
            "\n",
            "Training Data:\n",
            "Accuracy : 0.6787003610108303\n",
            "Precision : 0.6787003610108303\n",
            "Recall : 0.6787003610108303\n",
            "F1 : 0.6787003610108303\n",
            "Cross validation Score : 0.6426128662287561\n",
            "\n",
            "Test Data:\n",
            "Accuracy : 0.6739846322722283\n",
            "Precision : 0.6739846322722283\n",
            "Recall : 0.6739846322722283\n",
            "F1 : 0.6739846322722283\n",
            "Cross validation Score : 0.6448898096439081\n"
          ]
        }
      ]
    },
    {
      "cell_type": "code",
      "metadata": {
        "id": "kZVnXe2mKdyL",
        "outputId": "ff652977-36f7-4e7e-a7da-12cbe70b40fc"
      },
      "source": [
        "accuracy_rf, precision_rf, recall_rf, f1_rf, rf_score = model_fitting(train_x, train_y, valid_x, valid_y,'rf')\n",
        "print(\"Random Forest:\\n\")\n",
        "print(\"Training Data:\\nAccuracy : {0}\\nPrecision : {1}\\nRecall : {2}\\nF1 : {3}\\nCross validation Score : {4}\".format(accuracy_rf, precision_rf, recall_rf, f1_rf, rf_score))\n",
        "accuracy_rft, precision_rft, recall_rft, f1_rft, rft_score = model_fitting(train_x, train_y, test_x, test_y,'rf')\n",
        "print(\"\\nTest Data:\\nAccuracy : {0}\\nPrecision : {1}\\nRecall : {2}\\nF1 : {3}\\nCross validation Score : {4}\".format(accuracy_rft, precision_rft, recall_rft, f1_rft, rft_score))"
      ],
      "execution_count": null,
      "outputs": [
        {
          "name": "stdout",
          "output_type": "stream",
          "text": [
            "Random Forest:\n",
            "\n",
            "Training Data:\n",
            "Accuracy : 0.7487364620938628\n",
            "Precision : 0.7487364620938628\n",
            "Recall : 0.7487364620938628\n",
            "F1 : 0.7487364620938628\n",
            "Cross validation Score : 0.7126159941611927\n",
            "\n",
            "Test Data:\n",
            "Accuracy : 0.7486278814489572\n",
            "Precision : 0.7486278814489572\n",
            "Recall : 0.7486278814489572\n",
            "F1 : 0.7486278814489573\n",
            "Cross validation Score : 0.6833183210232392\n"
          ]
        }
      ]
    },
    {
      "cell_type": "code",
      "metadata": {
        "id": "sk48KNnaKdyM",
        "outputId": "1540d538-1f7e-44c0-e4c6-a6e63b01a068"
      },
      "source": [
        "pip install xgboost"
      ],
      "execution_count": null,
      "outputs": [
        {
          "name": "stdout",
          "output_type": "stream",
          "text": [
            "Requirement already satisfied: xgboost in c:\\users\\preet\\anaconda3\\lib\\site-packages (1.5.0)\n",
            "Requirement already satisfied: numpy in c:\\users\\preet\\anaconda3\\lib\\site-packages (from xgboost) (1.20.1)\n",
            "Requirement already satisfied: scipy in c:\\users\\preet\\anaconda3\\lib\\site-packages (from xgboost) (1.6.2)\n",
            "Note: you may need to restart the kernel to use updated packages.\n"
          ]
        }
      ]
    },
    {
      "cell_type": "code",
      "metadata": {
        "id": "qjHcbf3wKdyM",
        "outputId": "c69d2578-f681-4197-a4cb-ac0a337cfeeb"
      },
      "source": [
        "accuracy_xg, precision_xg, recall_xg, f1_xg, xg_score = model_fitting(train_x, train_y, valid_x, valid_y,'xgb')\n",
        "print(\"XG Boost:\\n\")\n",
        "print(\"Training Data:\\nAccuracy : {0}\\nPrecision : {1}\\nRecall : {2}\\nF1 : {3}\\nCross validation Score : {4}\".format(accuracy_xg, precision_xg, recall_xg, f1_xg, xg_score))\n",
        "accuracy_xgt, precision_xgt, recall_xgt, f1_xgt, xgt_score = model_fitting(train_x, train_y, test_x, test_y,'xgb')\n",
        "print(\"\\nTest Data:\\nAccuracy : {0}\\nPrecision : {1}\\nRecall : {2}\\nF1 : {3}\\nCross validation Score : {4}\".format(accuracy_xgt, precision_xgt, recall_xgt, f1_xgt, xgt_score))"
      ],
      "execution_count": null,
      "outputs": [
        {
          "name": "stdout",
          "output_type": "stream",
          "text": [
            "[22:38:59] WARNING: C:/Users/Administrator/workspace/xgboost-win64_release_1.5.0/src/learner.cc:1115: Starting in XGBoost 1.3.0, the default evaluation metric used with the objective 'multi:softprob' was changed from 'merror' to 'mlogloss'. Explicitly set eval_metric if you'd like to restore the old behavior.\n"
          ]
        },
        {
          "name": "stderr",
          "output_type": "stream",
          "text": [
            "C:\\Users\\preet\\anaconda3\\lib\\site-packages\\sklearn\\model_selection\\_validation.py:610: FitFailedWarning: Estimator fit failed. The score on this train-test partition for these parameters will be set to nan. Details: \n",
            "Traceback (most recent call last):\n",
            "  File \"C:\\Users\\preet\\anaconda3\\lib\\site-packages\\sklearn\\model_selection\\_validation.py\", line 593, in _fit_and_score\n",
            "    estimator.fit(X_train, y_train, **fit_params)\n",
            "  File \"C:\\Users\\preet\\anaconda3\\lib\\site-packages\\xgboost\\core.py\", line 506, in inner_f\n",
            "    return f(**kwargs)\n",
            "  File \"C:\\Users\\preet\\anaconda3\\lib\\site-packages\\xgboost\\sklearn.py\", line 1250, in fit\n",
            "    self._Booster = train(\n",
            "  File \"C:\\Users\\preet\\anaconda3\\lib\\site-packages\\xgboost\\training.py\", line 188, in train\n",
            "    bst = _train_internal(params, dtrain,\n",
            "  File \"C:\\Users\\preet\\anaconda3\\lib\\site-packages\\xgboost\\training.py\", line 81, in _train_internal\n",
            "    bst.update(dtrain, i, obj)\n",
            "  File \"C:\\Users\\preet\\anaconda3\\lib\\site-packages\\xgboost\\core.py\", line 1680, in update\n",
            "    _check_call(_LIB.XGBoosterUpdateOneIter(self.handle,\n",
            "  File \"C:\\Users\\preet\\anaconda3\\lib\\site-packages\\xgboost\\core.py\", line 218, in _check_call\n",
            "    raise XGBoostError(py_str(_LIB.XGBGetLastError()))\n",
            "xgboost.core.XGBoostError: value 0 for Parameter num_class should be greater equal to 1\n",
            "num_class: Number of output class in the multi-class classification.\n",
            "\n",
            "  warnings.warn(\"Estimator fit failed. The score on this train-test\"\n",
            "C:\\Users\\preet\\anaconda3\\lib\\site-packages\\sklearn\\model_selection\\_validation.py:610: FitFailedWarning: Estimator fit failed. The score on this train-test partition for these parameters will be set to nan. Details: \n",
            "Traceback (most recent call last):\n",
            "  File \"C:\\Users\\preet\\anaconda3\\lib\\site-packages\\sklearn\\model_selection\\_validation.py\", line 593, in _fit_and_score\n",
            "    estimator.fit(X_train, y_train, **fit_params)\n",
            "  File \"C:\\Users\\preet\\anaconda3\\lib\\site-packages\\xgboost\\core.py\", line 506, in inner_f\n",
            "    return f(**kwargs)\n",
            "  File \"C:\\Users\\preet\\anaconda3\\lib\\site-packages\\xgboost\\sklearn.py\", line 1250, in fit\n",
            "    self._Booster = train(\n",
            "  File \"C:\\Users\\preet\\anaconda3\\lib\\site-packages\\xgboost\\training.py\", line 188, in train\n",
            "    bst = _train_internal(params, dtrain,\n",
            "  File \"C:\\Users\\preet\\anaconda3\\lib\\site-packages\\xgboost\\training.py\", line 81, in _train_internal\n",
            "    bst.update(dtrain, i, obj)\n",
            "  File \"C:\\Users\\preet\\anaconda3\\lib\\site-packages\\xgboost\\core.py\", line 1680, in update\n",
            "    _check_call(_LIB.XGBoosterUpdateOneIter(self.handle,\n",
            "  File \"C:\\Users\\preet\\anaconda3\\lib\\site-packages\\xgboost\\core.py\", line 218, in _check_call\n",
            "    raise XGBoostError(py_str(_LIB.XGBGetLastError()))\n",
            "xgboost.core.XGBoostError: value 0 for Parameter num_class should be greater equal to 1\n",
            "num_class: Number of output class in the multi-class classification.\n",
            "\n",
            "  warnings.warn(\"Estimator fit failed. The score on this train-test\"\n",
            "C:\\Users\\preet\\anaconda3\\lib\\site-packages\\sklearn\\model_selection\\_validation.py:610: FitFailedWarning: Estimator fit failed. The score on this train-test partition for these parameters will be set to nan. Details: \n",
            "Traceback (most recent call last):\n",
            "  File \"C:\\Users\\preet\\anaconda3\\lib\\site-packages\\sklearn\\model_selection\\_validation.py\", line 593, in _fit_and_score\n",
            "    estimator.fit(X_train, y_train, **fit_params)\n",
            "  File \"C:\\Users\\preet\\anaconda3\\lib\\site-packages\\xgboost\\core.py\", line 506, in inner_f\n",
            "    return f(**kwargs)\n",
            "  File \"C:\\Users\\preet\\anaconda3\\lib\\site-packages\\xgboost\\sklearn.py\", line 1250, in fit\n",
            "    self._Booster = train(\n",
            "  File \"C:\\Users\\preet\\anaconda3\\lib\\site-packages\\xgboost\\training.py\", line 188, in train\n",
            "    bst = _train_internal(params, dtrain,\n",
            "  File \"C:\\Users\\preet\\anaconda3\\lib\\site-packages\\xgboost\\training.py\", line 81, in _train_internal\n",
            "    bst.update(dtrain, i, obj)\n",
            "  File \"C:\\Users\\preet\\anaconda3\\lib\\site-packages\\xgboost\\core.py\", line 1680, in update\n",
            "    _check_call(_LIB.XGBoosterUpdateOneIter(self.handle,\n",
            "  File \"C:\\Users\\preet\\anaconda3\\lib\\site-packages\\xgboost\\core.py\", line 218, in _check_call\n",
            "    raise XGBoostError(py_str(_LIB.XGBGetLastError()))\n",
            "xgboost.core.XGBoostError: value 0 for Parameter num_class should be greater equal to 1\n",
            "num_class: Number of output class in the multi-class classification.\n",
            "\n",
            "  warnings.warn(\"Estimator fit failed. The score on this train-test\"\n",
            "C:\\Users\\preet\\anaconda3\\lib\\site-packages\\sklearn\\model_selection\\_validation.py:610: FitFailedWarning: Estimator fit failed. The score on this train-test partition for these parameters will be set to nan. Details: \n",
            "Traceback (most recent call last):\n",
            "  File \"C:\\Users\\preet\\anaconda3\\lib\\site-packages\\sklearn\\model_selection\\_validation.py\", line 593, in _fit_and_score\n",
            "    estimator.fit(X_train, y_train, **fit_params)\n",
            "  File \"C:\\Users\\preet\\anaconda3\\lib\\site-packages\\xgboost\\core.py\", line 506, in inner_f\n",
            "    return f(**kwargs)\n",
            "  File \"C:\\Users\\preet\\anaconda3\\lib\\site-packages\\xgboost\\sklearn.py\", line 1250, in fit\n",
            "    self._Booster = train(\n",
            "  File \"C:\\Users\\preet\\anaconda3\\lib\\site-packages\\xgboost\\training.py\", line 188, in train\n",
            "    bst = _train_internal(params, dtrain,\n",
            "  File \"C:\\Users\\preet\\anaconda3\\lib\\site-packages\\xgboost\\training.py\", line 81, in _train_internal\n",
            "    bst.update(dtrain, i, obj)\n",
            "  File \"C:\\Users\\preet\\anaconda3\\lib\\site-packages\\xgboost\\core.py\", line 1680, in update\n",
            "    _check_call(_LIB.XGBoosterUpdateOneIter(self.handle,\n",
            "  File \"C:\\Users\\preet\\anaconda3\\lib\\site-packages\\xgboost\\core.py\", line 218, in _check_call\n",
            "    raise XGBoostError(py_str(_LIB.XGBGetLastError()))\n",
            "xgboost.core.XGBoostError: value 0 for Parameter num_class should be greater equal to 1\n",
            "num_class: Number of output class in the multi-class classification.\n",
            "\n",
            "  warnings.warn(\"Estimator fit failed. The score on this train-test\"\n",
            "C:\\Users\\preet\\anaconda3\\lib\\site-packages\\sklearn\\model_selection\\_validation.py:610: FitFailedWarning: Estimator fit failed. The score on this train-test partition for these parameters will be set to nan. Details: \n",
            "Traceback (most recent call last):\n",
            "  File \"C:\\Users\\preet\\anaconda3\\lib\\site-packages\\sklearn\\model_selection\\_validation.py\", line 593, in _fit_and_score\n",
            "    estimator.fit(X_train, y_train, **fit_params)\n",
            "  File \"C:\\Users\\preet\\anaconda3\\lib\\site-packages\\xgboost\\core.py\", line 506, in inner_f\n",
            "    return f(**kwargs)\n",
            "  File \"C:\\Users\\preet\\anaconda3\\lib\\site-packages\\xgboost\\sklearn.py\", line 1250, in fit\n",
            "    self._Booster = train(\n",
            "  File \"C:\\Users\\preet\\anaconda3\\lib\\site-packages\\xgboost\\training.py\", line 188, in train\n",
            "    bst = _train_internal(params, dtrain,\n",
            "  File \"C:\\Users\\preet\\anaconda3\\lib\\site-packages\\xgboost\\training.py\", line 81, in _train_internal\n",
            "    bst.update(dtrain, i, obj)\n",
            "  File \"C:\\Users\\preet\\anaconda3\\lib\\site-packages\\xgboost\\core.py\", line 1680, in update\n",
            "    _check_call(_LIB.XGBoosterUpdateOneIter(self.handle,\n",
            "  File \"C:\\Users\\preet\\anaconda3\\lib\\site-packages\\xgboost\\core.py\", line 218, in _check_call\n",
            "    raise XGBoostError(py_str(_LIB.XGBGetLastError()))\n",
            "xgboost.core.XGBoostError: value 0 for Parameter num_class should be greater equal to 1\n",
            "num_class: Number of output class in the multi-class classification.\n",
            "\n",
            "  warnings.warn(\"Estimator fit failed. The score on this train-test\"\n",
            "C:\\Users\\preet\\anaconda3\\lib\\site-packages\\sklearn\\model_selection\\_validation.py:610: FitFailedWarning: Estimator fit failed. The score on this train-test partition for these parameters will be set to nan. Details: \n",
            "Traceback (most recent call last):\n",
            "  File \"C:\\Users\\preet\\anaconda3\\lib\\site-packages\\sklearn\\model_selection\\_validation.py\", line 593, in _fit_and_score\n",
            "    estimator.fit(X_train, y_train, **fit_params)\n",
            "  File \"C:\\Users\\preet\\anaconda3\\lib\\site-packages\\xgboost\\core.py\", line 506, in inner_f\n",
            "    return f(**kwargs)\n",
            "  File \"C:\\Users\\preet\\anaconda3\\lib\\site-packages\\xgboost\\sklearn.py\", line 1250, in fit\n",
            "    self._Booster = train(\n",
            "  File \"C:\\Users\\preet\\anaconda3\\lib\\site-packages\\xgboost\\training.py\", line 188, in train\n",
            "    bst = _train_internal(params, dtrain,\n",
            "  File \"C:\\Users\\preet\\anaconda3\\lib\\site-packages\\xgboost\\training.py\", line 81, in _train_internal\n",
            "    bst.update(dtrain, i, obj)\n",
            "  File \"C:\\Users\\preet\\anaconda3\\lib\\site-packages\\xgboost\\core.py\", line 1680, in update\n",
            "    _check_call(_LIB.XGBoosterUpdateOneIter(self.handle,\n",
            "  File \"C:\\Users\\preet\\anaconda3\\lib\\site-packages\\xgboost\\core.py\", line 218, in _check_call\n",
            "    raise XGBoostError(py_str(_LIB.XGBGetLastError()))\n",
            "xgboost.core.XGBoostError: value 0 for Parameter num_class should be greater equal to 1\n",
            "num_class: Number of output class in the multi-class classification.\n",
            "\n",
            "  warnings.warn(\"Estimator fit failed. The score on this train-test\"\n",
            "C:\\Users\\preet\\anaconda3\\lib\\site-packages\\sklearn\\model_selection\\_validation.py:610: FitFailedWarning: Estimator fit failed. The score on this train-test partition for these parameters will be set to nan. Details: \n",
            "Traceback (most recent call last):\n",
            "  File \"C:\\Users\\preet\\anaconda3\\lib\\site-packages\\sklearn\\model_selection\\_validation.py\", line 593, in _fit_and_score\n",
            "    estimator.fit(X_train, y_train, **fit_params)\n",
            "  File \"C:\\Users\\preet\\anaconda3\\lib\\site-packages\\xgboost\\core.py\", line 506, in inner_f\n",
            "    return f(**kwargs)\n",
            "  File \"C:\\Users\\preet\\anaconda3\\lib\\site-packages\\xgboost\\sklearn.py\", line 1250, in fit\n",
            "    self._Booster = train(\n",
            "  File \"C:\\Users\\preet\\anaconda3\\lib\\site-packages\\xgboost\\training.py\", line 188, in train\n",
            "    bst = _train_internal(params, dtrain,\n",
            "  File \"C:\\Users\\preet\\anaconda3\\lib\\site-packages\\xgboost\\training.py\", line 81, in _train_internal\n",
            "    bst.update(dtrain, i, obj)\n",
            "  File \"C:\\Users\\preet\\anaconda3\\lib\\site-packages\\xgboost\\core.py\", line 1680, in update\n",
            "    _check_call(_LIB.XGBoosterUpdateOneIter(self.handle,\n",
            "  File \"C:\\Users\\preet\\anaconda3\\lib\\site-packages\\xgboost\\core.py\", line 218, in _check_call\n",
            "    raise XGBoostError(py_str(_LIB.XGBGetLastError()))\n",
            "xgboost.core.XGBoostError: value 0 for Parameter num_class should be greater equal to 1\n",
            "num_class: Number of output class in the multi-class classification.\n",
            "\n",
            "  warnings.warn(\"Estimator fit failed. The score on this train-test\"\n",
            "C:\\Users\\preet\\anaconda3\\lib\\site-packages\\sklearn\\model_selection\\_validation.py:610: FitFailedWarning: Estimator fit failed. The score on this train-test partition for these parameters will be set to nan. Details: \n",
            "Traceback (most recent call last):\n",
            "  File \"C:\\Users\\preet\\anaconda3\\lib\\site-packages\\sklearn\\model_selection\\_validation.py\", line 593, in _fit_and_score\n",
            "    estimator.fit(X_train, y_train, **fit_params)\n",
            "  File \"C:\\Users\\preet\\anaconda3\\lib\\site-packages\\xgboost\\core.py\", line 506, in inner_f\n",
            "    return f(**kwargs)\n",
            "  File \"C:\\Users\\preet\\anaconda3\\lib\\site-packages\\xgboost\\sklearn.py\", line 1250, in fit\n",
            "    self._Booster = train(\n",
            "  File \"C:\\Users\\preet\\anaconda3\\lib\\site-packages\\xgboost\\training.py\", line 188, in train\n",
            "    bst = _train_internal(params, dtrain,\n",
            "  File \"C:\\Users\\preet\\anaconda3\\lib\\site-packages\\xgboost\\training.py\", line 81, in _train_internal\n",
            "    bst.update(dtrain, i, obj)\n",
            "  File \"C:\\Users\\preet\\anaconda3\\lib\\site-packages\\xgboost\\core.py\", line 1680, in update\n",
            "    _check_call(_LIB.XGBoosterUpdateOneIter(self.handle,\n",
            "  File \"C:\\Users\\preet\\anaconda3\\lib\\site-packages\\xgboost\\core.py\", line 218, in _check_call\n",
            "    raise XGBoostError(py_str(_LIB.XGBGetLastError()))\n",
            "xgboost.core.XGBoostError: value 0 for Parameter num_class should be greater equal to 1\n",
            "num_class: Number of output class in the multi-class classification.\n",
            "\n",
            "  warnings.warn(\"Estimator fit failed. The score on this train-test\"\n",
            "C:\\Users\\preet\\anaconda3\\lib\\site-packages\\sklearn\\model_selection\\_validation.py:610: FitFailedWarning: Estimator fit failed. The score on this train-test partition for these parameters will be set to nan. Details: \n",
            "Traceback (most recent call last):\n",
            "  File \"C:\\Users\\preet\\anaconda3\\lib\\site-packages\\sklearn\\model_selection\\_validation.py\", line 593, in _fit_and_score\n",
            "    estimator.fit(X_train, y_train, **fit_params)\n",
            "  File \"C:\\Users\\preet\\anaconda3\\lib\\site-packages\\xgboost\\core.py\", line 506, in inner_f\n",
            "    return f(**kwargs)\n",
            "  File \"C:\\Users\\preet\\anaconda3\\lib\\site-packages\\xgboost\\sklearn.py\", line 1250, in fit\n",
            "    self._Booster = train(\n",
            "  File \"C:\\Users\\preet\\anaconda3\\lib\\site-packages\\xgboost\\training.py\", line 188, in train\n",
            "    bst = _train_internal(params, dtrain,\n",
            "  File \"C:\\Users\\preet\\anaconda3\\lib\\site-packages\\xgboost\\training.py\", line 81, in _train_internal\n",
            "    bst.update(dtrain, i, obj)\n",
            "  File \"C:\\Users\\preet\\anaconda3\\lib\\site-packages\\xgboost\\core.py\", line 1680, in update\n",
            "    _check_call(_LIB.XGBoosterUpdateOneIter(self.handle,\n",
            "  File \"C:\\Users\\preet\\anaconda3\\lib\\site-packages\\xgboost\\core.py\", line 218, in _check_call\n",
            "    raise XGBoostError(py_str(_LIB.XGBGetLastError()))\n",
            "xgboost.core.XGBoostError: value 0 for Parameter num_class should be greater equal to 1\n",
            "num_class: Number of output class in the multi-class classification.\n",
            "\n",
            "  warnings.warn(\"Estimator fit failed. The score on this train-test\"\n",
            "C:\\Users\\preet\\anaconda3\\lib\\site-packages\\sklearn\\model_selection\\_validation.py:610: FitFailedWarning: Estimator fit failed. The score on this train-test partition for these parameters will be set to nan. Details: \n",
            "Traceback (most recent call last):\n",
            "  File \"C:\\Users\\preet\\anaconda3\\lib\\site-packages\\sklearn\\model_selection\\_validation.py\", line 593, in _fit_and_score\n",
            "    estimator.fit(X_train, y_train, **fit_params)\n",
            "  File \"C:\\Users\\preet\\anaconda3\\lib\\site-packages\\xgboost\\core.py\", line 506, in inner_f\n",
            "    return f(**kwargs)\n",
            "  File \"C:\\Users\\preet\\anaconda3\\lib\\site-packages\\xgboost\\sklearn.py\", line 1250, in fit\n",
            "    self._Booster = train(\n",
            "  File \"C:\\Users\\preet\\anaconda3\\lib\\site-packages\\xgboost\\training.py\", line 188, in train\n",
            "    bst = _train_internal(params, dtrain,\n",
            "  File \"C:\\Users\\preet\\anaconda3\\lib\\site-packages\\xgboost\\training.py\", line 81, in _train_internal\n",
            "    bst.update(dtrain, i, obj)\n",
            "  File \"C:\\Users\\preet\\anaconda3\\lib\\site-packages\\xgboost\\core.py\", line 1680, in update\n",
            "    _check_call(_LIB.XGBoosterUpdateOneIter(self.handle,\n",
            "  File \"C:\\Users\\preet\\anaconda3\\lib\\site-packages\\xgboost\\core.py\", line 218, in _check_call\n",
            "    raise XGBoostError(py_str(_LIB.XGBGetLastError()))\n",
            "xgboost.core.XGBoostError: value 0 for Parameter num_class should be greater equal to 1\n",
            "num_class: Number of output class in the multi-class classification.\n",
            "\n",
            "  warnings.warn(\"Estimator fit failed. The score on this train-test\"\n"
          ]
        },
        {
          "name": "stdout",
          "output_type": "stream",
          "text": [
            "XG Boost:\n",
            "\n",
            "Training Data:\n",
            "Accuracy : 0.7003610108303249\n",
            "Precision : 0.7003610108303249\n",
            "Recall : 0.7003610108303249\n",
            "F1 : 0.7003610108303249\n",
            "Cross validation Score : nan\n",
            "[22:39:00] WARNING: C:/Users/Administrator/workspace/xgboost-win64_release_1.5.0/src/learner.cc:1115: Starting in XGBoost 1.3.0, the default evaluation metric used with the objective 'multi:softprob' was changed from 'merror' to 'mlogloss'. Explicitly set eval_metric if you'd like to restore the old behavior.\n",
            "[22:39:00] WARNING: C:/Users/Administrator/workspace/xgboost-win64_release_1.5.0/src/learner.cc:1115: Starting in XGBoost 1.3.0, the default evaluation metric used with the objective 'multi:softprob' was changed from 'merror' to 'mlogloss'. Explicitly set eval_metric if you'd like to restore the old behavior.\n",
            "[22:39:01] WARNING: C:/Users/Administrator/workspace/xgboost-win64_release_1.5.0/src/learner.cc:1115: Starting in XGBoost 1.3.0, the default evaluation metric used with the objective 'multi:softprob' was changed from 'merror' to 'mlogloss'. Explicitly set eval_metric if you'd like to restore the old behavior.\n",
            "[22:39:01] WARNING: C:/Users/Administrator/workspace/xgboost-win64_release_1.5.0/src/learner.cc:1115: Starting in XGBoost 1.3.0, the default evaluation metric used with the objective 'multi:softprob' was changed from 'merror' to 'mlogloss'. Explicitly set eval_metric if you'd like to restore the old behavior.\n"
          ]
        },
        {
          "name": "stderr",
          "output_type": "stream",
          "text": [
            "C:\\Users\\preet\\anaconda3\\lib\\site-packages\\sklearn\\model_selection\\_validation.py:610: FitFailedWarning: Estimator fit failed. The score on this train-test partition for these parameters will be set to nan. Details: \n",
            "Traceback (most recent call last):\n",
            "  File \"C:\\Users\\preet\\anaconda3\\lib\\site-packages\\sklearn\\model_selection\\_validation.py\", line 593, in _fit_and_score\n",
            "    estimator.fit(X_train, y_train, **fit_params)\n",
            "  File \"C:\\Users\\preet\\anaconda3\\lib\\site-packages\\xgboost\\core.py\", line 506, in inner_f\n",
            "    return f(**kwargs)\n",
            "  File \"C:\\Users\\preet\\anaconda3\\lib\\site-packages\\xgboost\\sklearn.py\", line 1250, in fit\n",
            "    self._Booster = train(\n",
            "  File \"C:\\Users\\preet\\anaconda3\\lib\\site-packages\\xgboost\\training.py\", line 188, in train\n",
            "    bst = _train_internal(params, dtrain,\n",
            "  File \"C:\\Users\\preet\\anaconda3\\lib\\site-packages\\xgboost\\training.py\", line 81, in _train_internal\n",
            "    bst.update(dtrain, i, obj)\n",
            "  File \"C:\\Users\\preet\\anaconda3\\lib\\site-packages\\xgboost\\core.py\", line 1680, in update\n",
            "    _check_call(_LIB.XGBoosterUpdateOneIter(self.handle,\n",
            "  File \"C:\\Users\\preet\\anaconda3\\lib\\site-packages\\xgboost\\core.py\", line 218, in _check_call\n",
            "    raise XGBoostError(py_str(_LIB.XGBGetLastError()))\n",
            "xgboost.core.XGBoostError: value 0 for Parameter num_class should be greater equal to 1\n",
            "num_class: Number of output class in the multi-class classification.\n",
            "\n",
            "  warnings.warn(\"Estimator fit failed. The score on this train-test\"\n"
          ]
        },
        {
          "name": "stdout",
          "output_type": "stream",
          "text": [
            "[22:39:01] WARNING: C:/Users/Administrator/workspace/xgboost-win64_release_1.5.0/src/learner.cc:1115: Starting in XGBoost 1.3.0, the default evaluation metric used with the objective 'multi:softprob' was changed from 'merror' to 'mlogloss'. Explicitly set eval_metric if you'd like to restore the old behavior.\n",
            "[22:39:02] WARNING: C:/Users/Administrator/workspace/xgboost-win64_release_1.5.0/src/learner.cc:1115: Starting in XGBoost 1.3.0, the default evaluation metric used with the objective 'multi:softprob' was changed from 'merror' to 'mlogloss'. Explicitly set eval_metric if you'd like to restore the old behavior.\n",
            "[22:39:02] WARNING: C:/Users/Administrator/workspace/xgboost-win64_release_1.5.0/src/learner.cc:1115: Starting in XGBoost 1.3.0, the default evaluation metric used with the objective 'multi:softprob' was changed from 'merror' to 'mlogloss'. Explicitly set eval_metric if you'd like to restore the old behavior.\n",
            "[22:39:03] WARNING: C:/Users/Administrator/workspace/xgboost-win64_release_1.5.0/src/learner.cc:1115: Starting in XGBoost 1.3.0, the default evaluation metric used with the objective 'multi:softprob' was changed from 'merror' to 'mlogloss'. Explicitly set eval_metric if you'd like to restore the old behavior.\n",
            "[22:39:03] WARNING: C:/Users/Administrator/workspace/xgboost-win64_release_1.5.0/src/learner.cc:1115: Starting in XGBoost 1.3.0, the default evaluation metric used with the objective 'multi:softprob' was changed from 'merror' to 'mlogloss'. Explicitly set eval_metric if you'd like to restore the old behavior.\n",
            "[22:39:03] WARNING: C:/Users/Administrator/workspace/xgboost-win64_release_1.5.0/src/learner.cc:1115: Starting in XGBoost 1.3.0, the default evaluation metric used with the objective 'multi:softprob' was changed from 'merror' to 'mlogloss'. Explicitly set eval_metric if you'd like to restore the old behavior.\n",
            "\n",
            "Test Data:\n",
            "Accuracy : 0.7266739846322722\n",
            "Precision : 0.7266739846322722\n",
            "Recall : 0.7266739846322722\n",
            "F1 : 0.7266739846322722\n",
            "Cross validation Score : nan\n"
          ]
        }
      ]
    },
    {
      "cell_type": "code",
      "metadata": {
        "id": "FVGT4uRuKdyM"
      },
      "source": [
        "#i have taken this code from the reference which you have uploaded \n"
      ],
      "execution_count": null,
      "outputs": []
    },
    {
      "cell_type": "markdown",
      "metadata": {
        "id": "z4lG8_JdKdyM"
      },
      "source": [
        "(20 points) The purpose of the question is to practice different machine learning algorithms for text clustering\n",
        "Please downlad the dataset by using the following link.  https://www.kaggle.com/PromptCloudHQ/amazon-reviews-unlocked-mobile-phones\n",
        "(You can also use different text data which you want)\n",
        "\n",
        "Apply the listed clustering methods to the dataset:\n",
        "\n",
        "K means, \n",
        "DBSCAN,\n",
        "Hierarchical clustering. \n",
        "\n",
        "You can refer to of the codes from  the follwing link below. \n",
        "https://www.kaggle.com/karthik3890/text-clustering "
      ]
    },
    {
      "cell_type": "code",
      "metadata": {
        "id": "vKPORro4KdyM",
        "outputId": "cacb69e0-ec54-457e-b439-402830b2efca"
      },
      "source": [
        "#Write your code here.\n",
        "\n",
        "data = pd.read_csv(r'C:\\Users\\preet\\Downloads\\archive (1)\\Amazon_Unlocked_Mobile.csv')\n",
        "data.head()"
      ],
      "execution_count": null,
      "outputs": [
        {
          "name": "stderr",
          "output_type": "stream",
          "text": [
            "[nltk_data] Downloading package stopwords to\n",
            "[nltk_data]     C:\\Users\\preet\\AppData\\Roaming\\nltk_data...\n",
            "[nltk_data]   Package stopwords is already up-to-date!\n",
            "[nltk_data] Downloading package wordnet to\n",
            "[nltk_data]     C:\\Users\\preet\\AppData\\Roaming\\nltk_data...\n",
            "[nltk_data]   Package wordnet is already up-to-date!\n",
            "[nltk_data] Downloading package punkt to\n",
            "[nltk_data]     C:\\Users\\preet\\AppData\\Roaming\\nltk_data...\n",
            "[nltk_data]   Package punkt is already up-to-date!\n"
          ]
        },
        {
          "data": {
            "text/html": [
              "<div>\n",
              "<style scoped>\n",
              "    .dataframe tbody tr th:only-of-type {\n",
              "        vertical-align: middle;\n",
              "    }\n",
              "\n",
              "    .dataframe tbody tr th {\n",
              "        vertical-align: top;\n",
              "    }\n",
              "\n",
              "    .dataframe thead th {\n",
              "        text-align: right;\n",
              "    }\n",
              "</style>\n",
              "<table border=\"1\" class=\"dataframe\">\n",
              "  <thead>\n",
              "    <tr style=\"text-align: right;\">\n",
              "      <th></th>\n",
              "      <th>Product Name</th>\n",
              "      <th>Brand Name</th>\n",
              "      <th>Price</th>\n",
              "      <th>Rating</th>\n",
              "      <th>Reviews</th>\n",
              "      <th>Review Votes</th>\n",
              "    </tr>\n",
              "  </thead>\n",
              "  <tbody>\n",
              "    <tr>\n",
              "      <th>0</th>\n",
              "      <td>\"CLEAR CLEAN ESN\" Sprint EPIC 4G Galaxy SPH-D7...</td>\n",
              "      <td>Samsung</td>\n",
              "      <td>199.99</td>\n",
              "      <td>5</td>\n",
              "      <td>I feel so LUCKY to have found this used (phone...</td>\n",
              "      <td>1.0</td>\n",
              "    </tr>\n",
              "    <tr>\n",
              "      <th>1</th>\n",
              "      <td>\"CLEAR CLEAN ESN\" Sprint EPIC 4G Galaxy SPH-D7...</td>\n",
              "      <td>Samsung</td>\n",
              "      <td>199.99</td>\n",
              "      <td>4</td>\n",
              "      <td>nice phone, nice up grade from my pantach revu...</td>\n",
              "      <td>0.0</td>\n",
              "    </tr>\n",
              "    <tr>\n",
              "      <th>2</th>\n",
              "      <td>\"CLEAR CLEAN ESN\" Sprint EPIC 4G Galaxy SPH-D7...</td>\n",
              "      <td>Samsung</td>\n",
              "      <td>199.99</td>\n",
              "      <td>5</td>\n",
              "      <td>Very pleased</td>\n",
              "      <td>0.0</td>\n",
              "    </tr>\n",
              "    <tr>\n",
              "      <th>3</th>\n",
              "      <td>\"CLEAR CLEAN ESN\" Sprint EPIC 4G Galaxy SPH-D7...</td>\n",
              "      <td>Samsung</td>\n",
              "      <td>199.99</td>\n",
              "      <td>4</td>\n",
              "      <td>It works good but it goes slow sometimes but i...</td>\n",
              "      <td>0.0</td>\n",
              "    </tr>\n",
              "    <tr>\n",
              "      <th>4</th>\n",
              "      <td>\"CLEAR CLEAN ESN\" Sprint EPIC 4G Galaxy SPH-D7...</td>\n",
              "      <td>Samsung</td>\n",
              "      <td>199.99</td>\n",
              "      <td>4</td>\n",
              "      <td>Great phone to replace my lost phone. The only...</td>\n",
              "      <td>0.0</td>\n",
              "    </tr>\n",
              "  </tbody>\n",
              "</table>\n",
              "</div>"
            ],
            "text/plain": [
              "                                        Product Name Brand Name   Price  \\\n",
              "0  \"CLEAR CLEAN ESN\" Sprint EPIC 4G Galaxy SPH-D7...    Samsung  199.99   \n",
              "1  \"CLEAR CLEAN ESN\" Sprint EPIC 4G Galaxy SPH-D7...    Samsung  199.99   \n",
              "2  \"CLEAR CLEAN ESN\" Sprint EPIC 4G Galaxy SPH-D7...    Samsung  199.99   \n",
              "3  \"CLEAR CLEAN ESN\" Sprint EPIC 4G Galaxy SPH-D7...    Samsung  199.99   \n",
              "4  \"CLEAR CLEAN ESN\" Sprint EPIC 4G Galaxy SPH-D7...    Samsung  199.99   \n",
              "\n",
              "   Rating                                            Reviews  Review Votes  \n",
              "0       5  I feel so LUCKY to have found this used (phone...           1.0  \n",
              "1       4  nice phone, nice up grade from my pantach revu...           0.0  \n",
              "2       5                                       Very pleased           0.0  \n",
              "3       4  It works good but it goes slow sometimes but i...           0.0  \n",
              "4       4  Great phone to replace my lost phone. The only...           0.0  "
            ]
          },
          "execution_count": 104,
          "metadata": {},
          "output_type": "execute_result"
        }
      ]
    },
    {
      "cell_type": "code",
      "metadata": {
        "id": "HXww3scQKdyM"
      },
      "source": [
        "data=data[:1000]"
      ],
      "execution_count": null,
      "outputs": []
    },
    {
      "cell_type": "code",
      "metadata": {
        "id": "w_Yz68idKdyN"
      },
      "source": [
        "def cleans(df):\n",
        "  df[\"punctuationremoval\"] = df[\"Reviews\"].str.replace('[^\\w\\s]','')\n",
        "  df['special_chars'] = df[\"punctuationremoval\"].str.replace('[^A-Za-z0-9 ]+','')\n",
        "  df['nums_removed'] = df[\"special_chars\"].str.replace('[^A-Za-z ]+','')\n",
        "  data = requests.get(\"https://gist.githubusercontent.com/sebleier/554280/raw/7e0e4a1ce04c2bb7bd41089c9821dbcf6d0c786c/NLTK's%2520list%2520of%2520english%2520stopwords\")\n",
        "  a = data.text\n",
        "  stop = a.split()\n",
        "  df['stopwords'] = df[\"nums_removed\"].apply(lambda x: \" \".join(x for x in x.split() if x not in stop))\n",
        "  df[\"lower_case\"] = df['stopwords'].apply(lambda x: \" \".join(x.lower() for x in x.split()))\n",
        "  df[\"tokenization\"] = df[\"lower_case\"].apply(lambda x: TextBlob(x).words)\n",
        "  st = PorterStemmer()\n",
        "  df[\"stemming\"]= df[\"tokenization\"].apply(lambda x: \" \".join([st.stem(word) for word in x]))\n",
        "  df[\"lemmatization\"] = df[\"stemming\"].apply(lambda x: \" \".join([Word(word).lemmatize() for word in x.split()]))\n",
        "  return df\n",
        "\n",
        "data['Reviews'] = data['Reviews'].apply(cleans)"
      ],
      "execution_count": null,
      "outputs": []
    },
    {
      "cell_type": "code",
      "metadata": {
        "id": "_8P6XDu1KdyN"
      },
      "source": [
        "from sklearn.feature_extraction.text import TfidfVectorizer\n",
        "tfidf_vect = TfidfVectorizer()\n",
        "tfidf = tfidf_vect.fit_transform(data['Reviews'])"
      ],
      "execution_count": null,
      "outputs": []
    },
    {
      "cell_type": "code",
      "metadata": {
        "id": "D1FbkaRnKdyN"
      },
      "source": [
        "from sklearn.cluster import KMeans\n",
        "import matplotlib.pyplot as plt\n",
        "model_tf = KMeans(n_clusters = 9,init='k-means++', n_jobs = -1,random_state=99)\n",
        "model_tf.fit(tfidf)\n",
        "labels_tf = model_tf.labels_\n",
        "cluster_center_tf=model_tf.cluster_centers_\n",
        "from sklearn import metrics\n",
        "silhouette_score_tf = metrics.silhouette_score(tfidf, labels_tf, metric='euclidean')"
      ],
      "execution_count": null,
      "outputs": []
    },
    {
      "cell_type": "code",
      "metadata": {
        "id": "ihnTrEh9KdyN",
        "outputId": "2904c56f-a208-406e-9612-85873a963631"
      },
      "source": [
        "import gensim\n",
        "list_of_sent_train=data['Reviews']\n",
        "# Training the wor2vec model using train dataset\n",
        "w2v_model=gensim.models.Word2Vec(list_of_sent_train,size=100, workers=4)\n",
        "import numpy as np\n",
        "sent_vectors = []; # the avg-w2v for each sentence/review is stored in this train\n",
        "for sent in list_of_sent_train: # for each review/sentence\n",
        "    sent_vec = np.zeros(100) # as word vectors are of zero length\n",
        "    cnt_words =0; # num of words with a valid vector in the sentence/review\n",
        "    for word in sent: # for each word in a review/sentence\n",
        "        try:\n",
        "            vec = w2v_model.wv[word]\n",
        "            sent_vec += vec\n",
        "            cnt_words += 1\n",
        "        except:\n",
        "            pass\n",
        "    sent_vec /= cnt_words\n",
        "    sent_vectors.append(sent_vec)\n",
        "sent_vectors = np.array(sent_vectors)\n",
        "sent_vectors = np.nan_to_num(sent_vectors)\n",
        "sent_vectors.shape"
      ],
      "execution_count": null,
      "outputs": [
        {
          "data": {
            "text/plain": [
              "(1000, 100)"
            ]
          },
          "execution_count": 110,
          "metadata": {},
          "output_type": "execute_result"
        }
      ]
    },
    {
      "cell_type": "code",
      "metadata": {
        "id": "ZaCcIBstKdyN",
        "outputId": "595f49ae-541e-4d08-ac3b-c5072f6e7572"
      },
      "source": [
        "num_clus = [x for x in range(3,11)]\n",
        "squared_errors = []\n",
        "for cluster in num_clus:\n",
        "    kmeans = KMeans(n_clusters = cluster).fit(sent_vectors) # Train Cluster\n",
        "    squared_errors.append(kmeans.inertia_) # Appending the squared loss obtained in the list\n",
        "    \n",
        "optimal_clusters = np.argmin(squared_errors) + 2 # As argmin return the index of minimum loss. \n",
        "plt.plot(num_clus, squared_errors)\n",
        "plt.title(\"Elbow Curve to find the no. of clusters.\")\n",
        "plt.xlabel(\"Number of clusters.\")\n",
        "plt.ylabel(\"Squared Loss.\")\n",
        "xy = (optimal_clusters, min(squared_errors))\n",
        "plt.annotate('(%s, %s)' % xy, xy = xy, textcoords='data')\n",
        "plt.show()\n",
        "\n",
        "print (\"The optimal number of clusters obtained is - \", optimal_clusters)\n",
        "print (\"The loss for optimal cluster is - \", min(squared_errors))"
      ],
      "execution_count": null,
      "outputs": [
        {
          "data": {
            "image/png": "[encoded data removed]",
            "text/plain": [
              "<Figure size 432x288 with 1 Axes>"
            ]
          },
          "metadata": {
            "needs_background": "light"
          },
          "output_type": "display_data"
        },
        {
          "name": "stdout",
          "output_type": "stream",
          "text": [
            "The optimal number of clusters obtained is -  9\n",
            "The loss for optimal cluster is -  5.302248967058644\n"
          ]
        }
      ]
    },
    {
      "cell_type": "code",
      "metadata": {
        "id": "aXzjDkWOKdyO"
      },
      "source": [
        "minPts = 2 * 100\n",
        "def lower_bound(nums, target):\n",
        "    l, r = 0, len(nums) - 1\n",
        "    while l <= r: # Binary searching.\n",
        "        mid = int(l + (r - l) / 2)\n",
        "        if nums[mid] >= target:\n",
        "            r = mid - 1\n",
        "        else:\n",
        "            l = mid + 1\n",
        "    return l\n",
        "def compute200thnearestneighbour(x, data): # Returns the distance of 200th nearest neighbour.\n",
        "    dists = []\n",
        "    for val in data:\n",
        "        dist = np.sum((x - val) **2 ) # computing distances.\n",
        "        if(len(dists) == 200 and dists[199] > dist): # If distance is larger than current largest distance found.\n",
        "            l = int(lower_bound(dists, dist)) # Using the lower bound function to get the right position.\n",
        "            if l < 200 and l >= 0 and dists[l] > dist:\n",
        "                dists[l] = dist\n",
        "        else:\n",
        "            dists.append(dist)\n",
        "            dists.sort()\n",
        "    \n",
        "    return dists[199] # Dist 199 contains the distance of 200th nearest neighbour.\n",
        "twohundrethneigh = []\n",
        "for val in sent_vectors[:1500]:\n",
        "    twohundrethneigh.append( compute200thnearestneighbour(val, sent_vectors[:1500]) )\n",
        "twohundrethneigh.sort()"
      ],
      "execution_count": null,
      "outputs": []
    },
    {
      "cell_type": "code",
      "metadata": {
        "id": "7eM6GMIRKdyO",
        "outputId": "179b8155-4117-4350-ec9d-5a7d8c03bd42"
      },
      "source": [
        "plt.figure(figsize=(14,4))\n",
        "plt.title(\"Elbow Method for Finding the right Eps hyperparameter\")\n",
        "plt.plot([x for x in range(len(twohundrethneigh))], twohundrethneigh)\n",
        "plt.xlabel(\"Number of points\")\n",
        "plt.ylabel(\"Distance of 200th Nearest Neighbour\")\n",
        "plt.show()"
      ],
      "execution_count": null,
      "outputs": [
        {
          "data": {
            "image/png": "[encoded data removed]",
            "text/plain": [
              "<Figure size 1008x288 with 1 Axes>"
            ]
          },
          "metadata": {
            "needs_background": "light"
          },
          "output_type": "display_data"
        }
      ]
    },
    {
      "cell_type": "code",
      "metadata": {
        "id": "rkXzTceBKdyO",
        "outputId": "1d2f71b3-3260-4892-ae41-4bd1ed415a58"
      },
      "source": [
        "from sklearn.cluster import DBSCAN\n",
        "model = DBSCAN(eps = 5, min_samples = minPts, n_jobs=-1)\n",
        "model.fit(sent_vectors)\n",
        "import scipy\n",
        "from scipy.cluster import hierarchy\n",
        "dendro=hierarchy.dendrogram(hierarchy.linkage(sent_vectors,method='ward'))\n",
        "plt.axhline(y=35)"
      ],
      "execution_count": null,
      "outputs": [
        {
          "data": {
            "text/plain": [
              "<matplotlib.lines.Line2D at 0x28c339e9f40>"
            ]
          },
          "execution_count": 114,
          "metadata": {},
          "output_type": "execute_result"
        },
        {
          "data": {
            "image/png": "[encoded data removed]",
            "text/plain": [
              "<Figure size 432x288 with 1 Axes>"
            ]
          },
          "metadata": {
            "needs_background": "light"
          },
          "output_type": "display_data"
        }
      ]
    },
    {
      "cell_type": "code",
      "metadata": {
        "id": "fos0W-FiKdyO"
      },
      "source": [
        "from sklearn.cluster import AgglomerativeClustering\n",
        "\n",
        "cluster = AgglomerativeClustering(n_clusters=5, affinity='euclidean', linkage='ward')  #took n=5 from dendrogram curve \n",
        "Agg=cluster.fit_predict(sent_vectors)"
      ],
      "execution_count": null,
      "outputs": []
    },
    {
      "cell_type": "markdown",
      "metadata": {
        "id": "wYKmWxqPKdyO"
      },
      "source": [
        "In one paragraph, please compare K means, DBSCAN and Hierarchical clustering."
      ]
    },
    {
      "cell_type": "code",
      "metadata": {
        "id": "Nf_JUS6LKdyO"
      },
      "source": [
        "#You can write you answer here. (No code needed)\n",
        "Hierarchical versus K-Means:\n",
        "Bunching, obviously, is an emotional measurable examination, and there is more than one adequate procedure for each dataset and issue type.\n",
        "Anyway, how would it be a good idea for you to respond if you can't choose K-implies and various leveled? \n",
        "1. If the dataset has a specific number of bunches however the gathering to which they have a place is obscure, utilize K-implies. \n",
        "2. Various leveled bunching ought to be utilized to decide the quantity of gatherings if the differentiations depend on earlier convictions.\n",
        "\n",
        "How is DBSCAN different from hierarchical clustering?\n",
        "As shown in the realistic beneath, progressive bunching gives a visual portrayal of how gatherings identify with each other. \n",
        "The DBSCAN (\"Density-Based Clustering of Applications with Noise\") strategy bunches focuses that are firmly pressed together and recognizes the rest as commotion.\n",
        "\n"
      ],
      "execution_count": null,
      "outputs": []
    }
  ]
}